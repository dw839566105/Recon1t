{
 "cells": [
  {
   "cell_type": "code",
   "execution_count": 3,
   "metadata": {},
   "outputs": [],
   "source": [
    "import numpy as np \n",
    "import scipy, h5py\n",
    "import tables\n",
    "import sys\n",
    "from scipy.optimize import minimize\n",
    "from numpy.polynomial import legendre as LG\n",
    "import matplotlib.pyplot as plt\n",
    "import os"
   ]
  },
  {
   "cell_type": "code",
   "execution_count": 93,
   "metadata": {},
   "outputs": [],
   "source": [
    "import os\n",
    "import tables\n",
    "def findfile(radius):\n",
    "    filename = '../coeff_time_1t_10000_10/file_' + radius + '.h5'\n",
    "    #print(filename)\n",
    "    h = tables.open_file(filename,'r')\n",
    "    coeff = np.array(h.root.coeff)[:]\n",
    "    ft = np.array(h.root.ft)[:]\n",
    "    ch = np.array(h.root.ch)[:]\n",
    "    predict = np.array(h.root.predict)[:]\n",
    "    h.close()\n",
    "    return coeff, ft, ch, predict\n",
    "\n",
    "coeff = [];\n",
    "ft = [];\n",
    "ch = [];\n",
    "predict = [];\n",
    "radius = np.arange(0.4001,0.40,-0.01)\n",
    "for i in radius:\n",
    "    file_str = '%+.2f' % i\n",
    "    a1,a2,a3,a4 = findfile(file_str)\n",
    "    a1 = findfile(file_str)\n",
    "    coeff.append(a1)\n",
    "    ft.append(a2)\n",
    "    ch.append(a3)\n",
    "    predict.append(a4)\n",
    "time_coeff = np.array(coeff)"
   ]
  },
  {
   "cell_type": "code",
   "execution_count": 94,
   "metadata": {
    "scrolled": false
   },
   "outputs": [
    {
     "data": {
      "image/png": "[encoded data removed]",
      "text/plain": [
       "<Figure size 432x288 with 1 Axes>"
      ]
     },
     "metadata": {
      "needs_background": "light"
     },
     "output_type": "display_data"
    },
    {
     "data": {
      "image/png": "[encoded data removed]",
      "text/plain": [
       "<Figure size 432x288 with 1 Axes>"
      ]
     },
     "metadata": {
      "needs_background": "light"
     },
     "output_type": "display_data"
    },
    {
     "data": {
      "image/png": "[encoded data removed]",
      "text/plain": [
       "<Figure size 432x288 with 1 Axes>"
      ]
     },
     "metadata": {
      "needs_background": "light"
     },
     "output_type": "display_data"
    }
   ],
   "source": [
    "for N in range(1,30,10):\n",
    "    plt.hist(np.array(ft)[0,np.array(ch)[0]==N],bins=100)\n",
    "    plt.vlines(np.array(predict)[0,0,N],0,3e3)\n",
    "    plt.show()"
   ]
  },
  {
   "cell_type": "code",
   "execution_count": 95,
   "metadata": {},
   "outputs": [
    {
     "name": "stdout",
     "output_type": "stream",
     "text": [
      "[21.58564477] 22.175371526223902\n",
      "[22.02808403] 22.851981526112734\n",
      "[22.75037943] 23.144758884302124\n",
      "[23.52601126] 23.859268508233118\n",
      "[24.05668381] 23.006507051919154\n",
      "[24.17066862] 23.011005856189573\n",
      "[24.47537327] 22.638694076349573\n",
      "[25.70730708] 22.10184257044973\n",
      "[21.29370221] 21.570322142344256\n",
      "[23.11806302] 22.05018388263785\n",
      "[22.99016755] 21.889157658583727\n",
      "[23.50167616] 23.88833569850302\n",
      "[23.94062754] 23.01177035132578\n",
      "[24.43823663] 23.741046408636095\n",
      "[25.0719629] 22.175371526223902\n",
      "[25.75058691] 22.851981526112734\n",
      "[21.55701283] 21.851709399140198\n",
      "[22.87717849] 23.006507051919154\n",
      "[23.14478203] 23.011005856189573\n",
      "[23.38771087] 22.638694076349573\n",
      "[23.94899299] 23.144758884302124\n",
      "[24.4313363] 23.859268508233118\n",
      "[25.01688066] 21.570322142344256\n",
      "[25.30825233] 21.851709399140198\n",
      "[21.93430869] 22.10184257044973\n",
      "[22.60896511] 23.01177035132578\n",
      "[23.29786303] 23.741046408636095\n",
      "[24.20823096] 22.05018388263785\n",
      "[24.05439312] 21.889157658583727\n",
      "[24.58226359] 23.888335698503024\n"
     ]
    }
   ],
   "source": [
    "def Calib(theta, *args):\n",
    "    flight_time = args\n",
    "    y = flight_time\n",
    "    #print(y)\n",
    "    #print(theta)\n",
    "    L = np.sum(Likelihood_quantile(y[0], theta, 0.01, 0.3))\n",
    "    \n",
    "    return L\n",
    "\n",
    "def Likelihood_quantile(y, T_i, tau, ts):\n",
    "    less = T_i - y[y<T_i]\n",
    "    more = y[y>=T_i] - T_i\n",
    "    R = (1-tau)*np.sum(less) + tau*np.sum(more)\n",
    "    return R\n",
    "\n",
    "record = []\n",
    "for N in range(30):\n",
    "    '''\n",
    "    plt.hist(np.array(ft)[0,np.array(ch)[0]==N],bins=100)\n",
    "    plt.vlines(np.array(predict)[0,0,N],0,3e3)\n",
    "    plt.show()\n",
    "    '''\n",
    "    theta0 = 0 # initial value\n",
    "    data = (np.array(ft)[0,np.array(ch)[0]==N])\n",
    "    result = minimize(Calib,theta0, method='SLSQP', args = (data))  \n",
    "    record.append(result.x)\n",
    "    print(record[N], np.array(predict)[0,0,N])"
   ]
  },
  {
   "cell_type": "code",
   "execution_count": 96,
   "metadata": {},
   "outputs": [
    {
     "name": "stdout",
     "output_type": "stream",
     "text": [
      "27.17943509247831\n"
     ]
    }
   ],
   "source": [
    "print(np.sum(np.array(record)[:,0] - np.array(predict)[0,0]))"
   ]
  },
  {
   "cell_type": "code",
   "execution_count": 91,
   "metadata": {
    "scrolled": false
   },
   "outputs": [
    {
     "data": {
      "text/plain": [
       "array([21.58564477, 22.02808403, 22.75037943, 23.52601126, 24.05668381,\n",
       "       24.17066862, 24.47537327, 25.70730708, 21.29370221, 23.11806302,\n",
       "       22.99016755, 23.50167616, 23.94062754, 24.43823663, 25.0719629 ,\n",
       "       25.75058691, 21.55701283, 22.87717849, 23.14478203, 23.38771087,\n",
       "       23.94899299, 24.4313363 , 25.01688066, 25.30825233, 21.93430869,\n",
       "       22.60896511, 23.29786303, 24.20823096, 24.05439312, 24.58226359])"
      ]
     },
     "execution_count": 91,
     "metadata": {},
     "output_type": "execute_result"
    }
   ],
   "source": [
    "np.array(record)[:,0]"
   ]
  },
  {
   "cell_type": "code",
   "execution_count": 101,
   "metadata": {},
   "outputs": [
    {
     "name": "stdout",
     "output_type": "stream",
     "text": [
      "/mnt/stage/douwei/Simulation/1t_root/1MeV_10000_h5/1t_+0.00.h5\n",
      "[ 2.32238333e+01 -2.42121013e-02 -1.42057929e-02  9.31264337e-03\n",
      " -4.32958432e-03]\n"
     ]
    },
    {
     "data": {
      "text/plain": [
       "[array([23.21919111, 23.24113473, 23.1982977 , 23.22569688, 23.20346808,\n",
       "        23.2361143 , 23.24176968, 23.24298196, 23.20958483, 23.22210772,\n",
       "        23.21429054, 23.23498012, 23.19303514, 23.24096494, 23.21919111,\n",
       "        23.24113473, 23.22689554, 23.20346808, 23.2361143 , 23.24176968,\n",
       "        23.1982977 , 23.22569688, 23.20958483, 23.22689554, 23.24298196,\n",
       "        23.19303514, 23.24096494, 23.22210772, 23.21429054, 23.23498012])]"
      ]
     },
     "execution_count": 101,
     "metadata": {},
     "output_type": "execute_result"
    }
   ],
   "source": [
    "import numpy as np \n",
    "import scipy, h5py\n",
    "import tables\n",
    "import sys\n",
    "from scipy.optimize import minimize\n",
    "from numpy.polynomial import legendre as LG\n",
    "import matplotlib.pyplot as plt\n",
    "import os\n",
    "\n",
    "def Calib(theta, *args):\n",
    "    ChannelID, flight_time, PMT_pos, cut = args\n",
    "    y = flight_time\n",
    "    x = Legendre_coeff(PMT_pos)\n",
    "    Legend_coeff = x[ChannelID,:]\n",
    "    T_i = np.dot(Legend_coeff, theta)\n",
    "    L = Likelihood_quantile(y, T_i, 0.01, 0.3)\n",
    "\n",
    "    return L\n",
    "\n",
    "def Likelihood_quantile(y, T_i, tau, ts):\n",
    "    less = T_i[y<T_i] - y[y<T_i]\n",
    "    more = y[y>=T_i] - T_i[y>=T_i]\n",
    "    \n",
    "    R = (1-tau)*np.sum(less) + tau*np.sum(more)\n",
    "    #log_Likelihood = exp\n",
    "    return R\n",
    "\n",
    "def Legendre_coeff(PMT_pos):\n",
    "    vertex = np.array([0,2,10,0])\n",
    "    cos_theta = np.sum(vertex[1:4]*PMT_pos,axis=1) \\\n",
    "        /np.sqrt(np.sum(vertex[1:4]**2)*np.sum(PMT_pos**2,axis=1))\n",
    "    # accurancy and nan value\n",
    "    cos_theta = np.nan_to_num(cos_theta)\n",
    "    cos_theta[cos_theta>1] = 1\n",
    "    cos_theta[cos_theta<-1] =-1\n",
    "    size = np.size(PMT_pos[:,0])\n",
    "    x = np.zeros((size, cut))\n",
    "    # legendre coeff\n",
    "    for i in np.arange(0,cut):\n",
    "        c = np.zeros(cut)\n",
    "        c[i] = 1\n",
    "        x[:,i] = LG.legval(cos_theta,c)\n",
    "    return x  \n",
    "\n",
    "def main_Calib(radius):\n",
    "    filename = '/mnt/stage/douwei/Simulation/1t_root/1MeV_10000_h5/1t_' + radius + '.h5'\n",
    "\n",
    "    # read files by table\n",
    "    h1 = tables.open_file(filename,'r')\n",
    "    print(filename)\n",
    "    truthtable = h1.root.GroundTruth\n",
    "    EventID = truthtable[:]['EventID']\n",
    "    ChannelID = truthtable[:]['ChannelID']\n",
    "    PETime = truthtable[:]['PETime']\n",
    "    photonTime = truthtable[:]['photonTime']\n",
    "    PulseTime = truthtable[:]['PulseTime']\n",
    "    dETime = truthtable[:]['dETime']\n",
    "    h1.close()\n",
    "    \n",
    "    # read file series\n",
    "    \n",
    "    try:\n",
    "        for j in np.arange(1,10,1):\n",
    "            filename = Energy + '/calib' + radius + '_' + str(j)+ '.h5'           \n",
    "            h1 = tables.open_file(filename,'r')\n",
    "            print(filename)\n",
    "            truthtable = h1.root.GroundTruth\n",
    "\n",
    "            EventID_tmp = truthtable[:]['EventID']\n",
    "            ChannelID_tmp = truthtable[:]['ChannelID']\n",
    "            PETime_tmp = truthtable[:]['PETime']\n",
    "            photonTime_tmp = truthtable[:]['photonTime']\n",
    "            PulseTime_tmp = truthtable[:]['PulseTime']\n",
    "            dETime_tmp = truthtable[:]['dETime']\n",
    "            \n",
    "            EventID = np.hstack((EventID, EventID_tmp))\n",
    "            ChannelID = np.hstack((ChannelID, ChannelID_tmp))\n",
    "            PETime = np.hstack((PETime, PETime_tmp))\n",
    "            photonTime = np.hstack((photonTime, photonTime_tmp))\n",
    "            PulseTime = np.hstack((PulseTime, PulseTime_tmp))\n",
    "            dETime = np.hstack((dETime, dETime_tmp))\n",
    "            \n",
    "            h1.close()\n",
    "    except:\n",
    "        j = j - 1\n",
    "    \n",
    "    total_pe = np.zeros((np.size(PMT_pos[:,0]),max(EventID)))\n",
    "    \n",
    "    flight_time = PulseTime - dETime\n",
    "    ChannelID = ChannelID[~(flight_time==0)]\n",
    "    flight_time = flight_time[~(flight_time==0)]\n",
    "    theta0 = np.zeros(cut) # initial value\n",
    "    theta0[0] = np.mean(flight_time) - 26\n",
    "    result = minimize(Calib,theta0, method='SLSQP',args = (ChannelID, flight_time, PMT_pos, cut))  \n",
    "    record = np.array(result.x, dtype=float)\n",
    "    print(result.x)\n",
    "    \n",
    "    x = Legendre_coeff(PMT_pos)\n",
    "    predict = [];\n",
    "    predict.append(np.dot(x, result.x))\n",
    "    return predict, record\n",
    "\n",
    "f = open(r'../PMT_1t.txt')\n",
    "line = f.readline()\n",
    "data_list = []\n",
    "while line:\n",
    "    num = list(map(float,line.split()))\n",
    "    data_list.append(num)\n",
    "    line = f.readline()\n",
    "    \n",
    "f.close()\n",
    "PMT_pos = np.array(data_list)\n",
    "\n",
    "cut = 5 # Legend order\n",
    "main_Calib('+0.00')\n"
   ]
  },
  {
   "cell_type": "code",
   "execution_count": null,
   "metadata": {},
   "outputs": [],
   "source": []
  }
 ],
 "metadata": {
  "kernelspec": {
   "display_name": "Python 3",
   "language": "python",
   "name": "python3"
  },
  "language_info": {
   "codemirror_mode": {
    "name": "ipython",
    "version": 3
   },
   "file_extension": ".py",
   "mimetype": "text/x-python",
   "name": "python",
   "nbconvert_exporter": "python",
   "pygments_lexer": "ipython3",
   "version": "3.6.10"
  }
 },
 "nbformat": 4,
 "nbformat_minor": 2
}
