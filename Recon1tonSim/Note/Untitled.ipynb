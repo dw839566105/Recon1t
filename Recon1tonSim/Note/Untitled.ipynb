{
 "cells": [
  {
   "cell_type": "code",
   "execution_count": 14,
   "metadata": {},
   "outputs": [],
   "source": [
    "import tables\n",
    "import matplotlib.pyplot as plt"
   ]
  },
  {
   "cell_type": "code",
   "execution_count": 53,
   "metadata": {},
   "outputs": [],
   "source": [
    "h = tables.open_file('../test.h5')\n",
    "x_in = h.root.Recon[:]['x_sph_in']\n",
    "y_in = h.root.Recon[:]['y_sph_in']\n",
    "z_in = h.root.Recon[:]['z_sph_in']\n",
    "x_out = h.root.Recon[:]['x_sph_out']\n",
    "y_out = h.root.Recon[:]['y_sph_out']\n",
    "z_out = h.root.Recon[:]['z_sph_out']\n",
    "\n",
    "fun_in = h.root.Recon[:]['Likelihood_in']\n",
    "fun_out = h.root.Recon[:]['Likelihood_out']\n",
    "\n",
    "pe = h.root.Tmp[:]['truth']\n",
    "exp_in = h.root.Tmp[:]['inner']\n",
    "exp_out = h.root.Tmp[:]['outer']\n",
    "pin = h.root.Tmp[:]['pin']\n",
    "pout = h.root.Tmp[:]['pout']"
   ]
  },
  {
   "cell_type": "code",
   "execution_count": 58,
   "metadata": {},
   "outputs": [],
   "source": [
    "r_in = np.sqrt(x_in**2+y_in**2+z_in**2)\n",
    "r_out = np.sqrt(x_out**2+y_out**2+z_out**2)\n",
    "pe_new = np.reshape(pe, (30,-1), order='F')\n",
    "pin = np.reshape(pin, (30,-1), order='F')\n",
    "pout = np.reshape(pout, (30,-1), order='F')"
   ]
  },
  {
   "cell_type": "code",
   "execution_count": 55,
   "metadata": {},
   "outputs": [
    {
     "name": "stdout",
     "output_type": "stream",
     "text": [
      "[11.92   8.56   4.945  3.438  2.934  2.734  2.611  3.613 16.33   4.39\n",
      "  5.043  3.324  3.33   2.531  2.336  3.588 11.91   5.047  4.31   3.908\n",
      "  3.3    2.469  2.33   2.445  8.8    4.844  3.93   2.588  2.895  2.566]\n",
      "[12.125  8.55   4.64   3.387  3.084  2.984  2.895  2.852 16.86   4.277\n",
      "  4.83   3.383  3.375  2.795  2.1    2.783 12.234  4.938  4.277  3.898\n",
      "  3.352  2.81   2.252  2.193  8.85   4.566  3.852  2.877  2.992  2.967]\n"
     ]
    }
   ],
   "source": [
    "print(np.mean(pe_new[:,fun_in<fun_out], axis=1))\n",
    "print(np.mean(pe_new[:,fun_out<fun_in], axis=1))"
   ]
  },
  {
   "cell_type": "code",
   "execution_count": 61,
   "metadata": {},
   "outputs": [
    {
     "name": "stdout",
     "output_type": "stream",
     "text": [
      "[11.19   8.16   5.215  3.52   3.168  2.916  2.857  3.535 14.86   4.504\n",
      "  5.254  3.383  3.588  2.73   2.434  3.504 11.12   5.26   4.41   4.035\n",
      "  3.523  2.646  2.525  2.566  8.45   5.082  4.016  2.842  3.11   2.783]\n",
      "[12.125  8.55   4.64   3.387  3.084  2.984  2.895  2.852 16.86   4.277\n",
      "  4.83   3.383  3.375  2.795  2.1    2.783 12.234  4.938  4.277  3.898\n",
      "  3.352  2.81   2.252  2.193  8.85   4.566  3.852  2.877  2.992  2.967]\n"
     ]
    },
    {
     "data": {
      "text/plain": [
       "array([ 1.11072075e-03, -2.93272792e-03, -1.55932330e-03, -2.18490356e-03,\n",
       "        6.51899202e-04,  2.18604720e-03,  2.37124619e-03,  6.49656521e-03,\n",
       "        3.07469271e-04, -2.58175902e-03, -5.44547105e-04, -2.58673959e-03,\n",
       "        2.82423880e-04,  3.76320510e-03,  2.30462581e-03,  6.75926051e-03,\n",
       "        1.16708014e-03, -7.50883520e-04, -1.99811283e-03, -1.68779816e-03,\n",
       "       -5.43860215e-05,  3.17858506e-03,  2.68017191e-03,  2.43377332e-03,\n",
       "       -1.86142570e-03, -2.23630253e-03, -2.10367719e-03,  2.97464762e-03,\n",
       "        1.11040177e-03,  2.66382110e-03])"
      ]
     },
     "execution_count": 61,
     "metadata": {},
     "output_type": "execute_result"
    }
   ],
   "source": [
    "print(np.mean(pe_new[:,(fun_in<fun_out) & (r_in < 0.40)], axis=1))\n",
    "print(np.mean(pe_new[:,(fun_out<fun_in) & (r_out > 0.5)], axis=1))\n",
    "np.mean(pin - pout, axis=1)"
   ]
  },
  {
   "cell_type": "code",
   "execution_count": null,
   "metadata": {},
   "outputs": [],
   "source": []
  }
 ],
 "metadata": {
  "kernelspec": {
   "display_name": "Python 3",
   "language": "python",
   "name": "python3"
  },
  "language_info": {
   "codemirror_mode": {
    "name": "ipython",
    "version": 3
   },
   "file_extension": ".py",
   "mimetype": "text/x-python",
   "name": "python",
   "nbconvert_exporter": "python",
   "pygments_lexer": "ipython3",
   "version": "3.6.10"
  }
 },
 "nbformat": 4,
 "nbformat_minor": 2
}
