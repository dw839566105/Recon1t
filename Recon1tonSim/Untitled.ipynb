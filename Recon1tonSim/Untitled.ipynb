{
 "cells": [
  {
   "cell_type": "markdown",
   "metadata": {},
   "source": [
    "### Check calib by time"
   ]
  },
  {
   "cell_type": "code",
   "execution_count": 1,
   "metadata": {},
   "outputs": [
    {
     "name": "stderr",
     "output_type": "stream",
     "text": [
      "/home/orv/gentoo/usr/lib64/python3.6/site-packages/h5py/__init__.py:36: FutureWarning: Conversion of the second argument of issubdtype from `float` to `np.floating` is deprecated. In future, it will be treated as `np.float64 == np.dtype(float).type`.\n",
      "  from ._conv import register_converters as _register_converters\n"
     ]
    }
   ],
   "source": [
    "import numpy as np\n",
    "import scipy, h5py\n",
    "import scipy.stats as stats\n",
    "import os,sys\n",
    "import tables\n",
    "import scipy.io as scio\n",
    "import matplotlib.pyplot as plt\n",
    "import uproot, argparse\n",
    "from scipy.optimize import minimize\n",
    "from scipy import interpolate\n",
    "from numpy.polynomial import legendre as LG\n",
    "from scipy import special\n",
    "import warnings"
   ]
  },
  {
   "cell_type": "markdown",
   "metadata": {},
   "source": [
    "##### load coeff"
   ]
  },
  {
   "cell_type": "code",
   "execution_count": 2,
   "metadata": {},
   "outputs": [],
   "source": [
    "h = tables.open_file('../calib/Time_coeff.h5','r')\n",
    "coeff = h.root.coeff[:]\n",
    "h.close()\n",
    "cut, fitcut = coeff.shape"
   ]
  },
  {
   "cell_type": "code",
   "execution_count": 3,
   "metadata": {},
   "outputs": [],
   "source": [
    "# physical constant\n",
    "Light_yield = 4285*0.88 # light yield\n",
    "Att_LS = 18 # attenuation length of LS\n",
    "Att_Wtr = 300 # attenuation length of water\n",
    "tau_r = 1.6 # fast time constant\n",
    "TTS = 5.5/2.355\n",
    "QE = 0.20\n",
    "PMT_radius = 0.254\n",
    "c = 2.99792e8\n",
    "n = 1.48\n",
    "shell = 0.6 # Acrylic"
   ]
  },
  {
   "cell_type": "code",
   "execution_count": 4,
   "metadata": {},
   "outputs": [],
   "source": [
    "def Likelihood_Time(vertex, *args):\n",
    "    coeff, PMT_pos, fired, time, cut = args\n",
    "    y = time\n",
    "    # fixed axis\n",
    "    z = np.sqrt(np.sum(vertex[1:4]**2))\n",
    "    cos_theta = np.sum(vertex[1:4]*PMT_pos,axis=1)\\\n",
    "        /np.sqrt(np.sum(vertex[1:4]**2)*np.sum(PMT_pos**2,axis=1))\n",
    "    # accurancy and nan value\n",
    "    cos_theta = np.nan_to_num(cos_theta)\n",
    "    cos_theta[cos_theta>1] = 1\n",
    "    cos_theta[cos_theta<-1] =-1\n",
    "\n",
    "    cos_total = cos_theta[fired]\n",
    "    \n",
    "    size = np.size(cos_total)\n",
    "    x = np.zeros((size, cut))\n",
    "    # legendre coeff\n",
    "    for i in np.arange(0,cut):\n",
    "        c = np.zeros(cut)\n",
    "        c[i] = 1\n",
    "        x[:,i] = LG.legval(cos_total,c)\n",
    "\n",
    "    k = np.zeros((1,cut))\n",
    "    for i in np.arange(cut):\n",
    "        # cubic interp\n",
    "        if(np.abs(z)>0.65):\n",
    "            z = 0.65*np.sign(z)\n",
    "        k[0,i] = np.sum(np.polynomial.legendre.legval(z,coeff[i,:]))\n",
    "    \n",
    "    #k[0] = k[0] + np.log(vertex[0])\n",
    "    k[0,0] = vertex[0]\n",
    "    T_i = np.dot(x, np.transpose(k))\n",
    "    L = Likelihood_quantile(y, T_i[:,0], 0.2, 0.3)\n",
    "    return L"
   ]
  },
  {
   "cell_type": "code",
   "execution_count": 5,
   "metadata": {},
   "outputs": [],
   "source": [
    "def Likelihood_Time_Check(vertex, *args):\n",
    "    coeff, PMT_pos, fired, time, cut = args\n",
    "    y = time\n",
    "    # fixed axis\n",
    "    z = np.sqrt(np.sum(vertex[1:4]**2))\n",
    "    cos_theta = np.sum(vertex[1:4]*PMT_pos,axis=1)\\\n",
    "        /np.sqrt(np.sum(vertex[1:4]**2)*np.sum(PMT_pos**2,axis=1))\n",
    "    # accurancy and nan value\n",
    "    cos_theta = np.nan_to_num(cos_theta)\n",
    "    cos_theta[cos_theta>1] = 1\n",
    "    cos_theta[cos_theta<-1] =-1\n",
    "\n",
    "    cos_total = cos_theta[fired]\n",
    "    \n",
    "    size = np.size(cos_total)\n",
    "    x = np.zeros((size, cut))\n",
    "    # legendre coeff\n",
    "    for i in np.arange(0,cut):\n",
    "        c = np.zeros(cut)\n",
    "        c[i] = 1\n",
    "        x[:,i] = LG.legval(cos_total,c)\n",
    "\n",
    "    k = np.zeros((1,cut))\n",
    "    for i in np.arange(cut):\n",
    "        # cubic interp\n",
    "        if(np.abs(z)>0.65):\n",
    "            z = 0.65*np.sign(z)\n",
    "        k[0,i] = np.sum(np.polynomial.legendre.legval(z,coeff[i,:]))\n",
    "    \n",
    "    #k[0] = k[0] + np.log(vertex[0])\n",
    "    k[0,0] = vertex[0]\n",
    "    T_i = np.dot(x, np.transpose(k))\n",
    "    L = Likelihood_quantile(y, T_i[:,0], 0.2, 0.3)\n",
    "    return T_i"
   ]
  },
  {
   "cell_type": "code",
   "execution_count": 6,
   "metadata": {},
   "outputs": [],
   "source": [
    "def Likelihood_quantile(y, T_i, tau, ts):\n",
    "    less = T_i[y<T_i] - y[y<T_i]\n",
    "    more = y[y>=T_i] - T_i[y>=T_i]\n",
    "\n",
    "    R = (1-tau)*np.sum(less) + tau*np.sum(more)\n",
    "    #log_Likelihood = exp\n",
    "    return R"
   ]
  },
  {
   "cell_type": "code",
   "execution_count": 7,
   "metadata": {},
   "outputs": [],
   "source": [
    "def con_sph(args):\n",
    "    E_min,\\\n",
    "    E_max,\\\n",
    "    tau_min,\\\n",
    "    tau_max,\\\n",
    "    t0_min,\\\n",
    "    t0_max\\\n",
    "    = args\n",
    "    cons = ({'type': 'ineq', 'fun': lambda x: shell**2 - (x[1]**2 + x[2]**2 + x[3]**2)})\n",
    "    return cons"
   ]
  },
  {
   "cell_type": "code",
   "execution_count": 8,
   "metadata": {},
   "outputs": [],
   "source": [
    "def con_sph1(args):\n",
    "    E_min,\\\n",
    "    E_max,\\\n",
    "    tau_min,\\\n",
    "    tau_max,\\\n",
    "    t0_min,\\\n",
    "    t0_max\\\n",
    "    = args\n",
    "    cons = ({'type': 'ineq', 'fun': lambda x: 0.1**2 - (x[1]**2 + x[2]**2 + x[3]**2)})\n",
    "    return cons"
   ]
  },
  {
   "cell_type": "code",
   "execution_count": 9,
   "metadata": {},
   "outputs": [],
   "source": [
    "def ReadPMT():\n",
    "    f = open(r\"./PMT1t.txt\")\n",
    "    line = f.readline()\n",
    "    data_list = [] \n",
    "    while line:\n",
    "        num = list(map(float,line.split()))\n",
    "        data_list.append(num)\n",
    "        line = f.readline()\n",
    "    f.close()\n",
    "    PMT_pos = np.array(data_list)\n",
    "    return PMT_pos"
   ]
  },
  {
   "cell_type": "code",
   "execution_count": 34,
   "metadata": {},
   "outputs": [
    {
     "name": "stderr",
     "output_type": "stream",
     "text": [
      "/home/orv/gentoo/usr/lib64/python3.6/site-packages/ipykernel_launcher.py:6: RuntimeWarning: invalid value encountered in true_divide\n",
      "  \n"
     ]
    },
    {
     "name": "stdout",
     "output_type": "stream",
     "text": [
      "545.1906163499112 2448.308207918536\n",
      "552.1059710584203 2478.80947785652\n"
     ]
    },
    {
     "data": {
      "image/png": "[encoded data removed]",
      "text/plain": [
       "<Figure size 432x288 with 1 Axes>"
      ]
     },
     "metadata": {},
     "output_type": "display_data"
    }
   ],
   "source": [
    "PMT_pos = ReadPMT()\n",
    "event_count = 0\n",
    "# Reconstruction\n",
    "fid = '../calib/1.8MeV/calib+0.01.h5'# input file .h5\n",
    "args = PMT_pos, event_count\n",
    "\n",
    "h = tables.open_file(fid,'r')\n",
    "rawdata = h.root.GroundTruth\n",
    "EventID = rawdata[:]['EventID']\n",
    "ChannelID = rawdata[:]['ChannelID']\n",
    "Time = rawdata[:]['PETime']\n",
    "\n",
    "i = 1\n",
    "\n",
    "index = (EventID==i)\n",
    "pe_array = np.zeros(np.size(PMT_pos[:,1])) # Photons on each PMT (PMT size * 1 vector)\n",
    "fired_PMT = ChannelID[index]\n",
    "for j in np.arange(np.size(fired_PMT)):\n",
    "    pe_array[fired_PMT[j]] = pe_array[fired_PMT[j]]+1\n",
    "\n",
    "time_array = Time[index]        \n",
    "fired_PMT = fired_PMT.astype(int)\n",
    "# initial result\n",
    "result_vertex = np.empty((0,6)) # reconstructed vertex\n",
    "# initial value x[0] = [1,6]\n",
    "\n",
    "x0 = np.zeros((1,4))\n",
    "x0[0][0] = pe_array.sum()/60\n",
    "x0[0][1] = np.sum(pe_array*PMT_pos[:,0])/np.sum(pe_array)\n",
    "x0[0][2] = np.sum(pe_array*PMT_pos[:,1])/np.sum(pe_array)\n",
    "x0[0][3] = np.sum(pe_array*PMT_pos[:,2])/np.sum(pe_array)\n",
    "# Constraints\n",
    "E_min = 0.01\n",
    "E_max = 10\n",
    "tau_min = 0.01\n",
    "tau_max = 100\n",
    "t0_min = -300\n",
    "t0_max = 300\n",
    "\n",
    "# initial value\n",
    "x0 = np.zeros((1,4))\n",
    "x0[0][0] = pe_array.sum()/60\n",
    "x0[0][1] = np.sum(pe_array*PMT_pos[:,0])/np.sum(pe_array)\n",
    "x0[0][2] = np.sum(pe_array*PMT_pos[:,1])/np.sum(pe_array)\n",
    "x0[0][3] = np.sum(pe_array*PMT_pos[:,2])/np.sum(pe_array)\n",
    "\n",
    "if(np.sqrt(np.sum(x0**2))>0.65):\n",
    "    x0 = x0/np.sqrt(np.sum(x0**2))*0.65\n",
    "con_args = E_min, E_max, tau_min, tau_max, t0_min, t0_max\n",
    "cons_sph = con_sph(con_args)\n",
    "record = np.zeros((1,4))\n",
    "\n",
    "result = minimize(Likelihood_Time, x0, method='SLSQP',constraints=cons_sph, args = (coeff, PMT_pos, fired_PMT, time_array, cut))\n",
    "\n",
    "x0[0][1] = 0\n",
    "x0[0][2] = 0\n",
    "x0[0][3] = 0\n",
    "cons_sph = con_sph1(con_args)\n",
    "result1 = minimize(Likelihood_Time, x0, method='SLSQP',constraints=cons_sph, args = (coeff, PMT_pos, fired_PMT, time_array, cut))\n",
    "args = (coeff, PMT_pos, fired_PMT, time_array, cut)\n",
    "T1 = Likelihood_Time_Check(result.x, *(coeff, PMT_pos, fired_PMT, time_array, cut))\n",
    "T2 = Likelihood_Time_Check(result1.x, *(coeff, PMT_pos, fired_PMT, time_array, cut))\n",
    "\n",
    "R1 = Likelihood_quantile(time_array, T1[:,0], 0.2, 0.3)\n",
    "R2 = Likelihood_quantile(time_array, T2[:,0], 0.2, 0.3)\n",
    "print(R1, np.sum(np.abs(time_array-T1[:,0])))\n",
    "print(R2, np.sum(np.abs(time_array-T2[:,0])))\n",
    "import matplotlib.pyplot as plt\n",
    "plt.hist(time_array - T2[:,0], bins= 100)\n",
    "plt.hist(time_array - T1[:,0], bins= 100)\n",
    "plt.hist(time_array - T2[0], bins= 100)\n",
    "plt.show()"
   ]
  },
  {
   "cell_type": "code",
   "execution_count": 20,
   "metadata": {},
   "outputs": [
    {
     "data": {
      "text/plain": [
       "array([283.81195916, 283.81195916, 284.10744855, 284.10744855,\n",
       "       280.61596668, 280.61596668, 280.61596668, 280.61596668,\n",
       "       280.61596668, 281.26760638, 281.26760638, 281.26760638,\n",
       "       281.26760638, 281.26760638, 281.26760638, 280.89008231,\n",
       "       280.89008231, 280.89008231, 280.99999905, 280.99999905,\n",
       "       280.99999905, 281.27190718, 281.27190718, 281.27190718,\n",
       "       281.27190718, 281.27190718, 281.27190718, 281.27190718,\n",
       "       281.11777736, 281.11777736, 281.11777736, 281.11777736,\n",
       "       281.11777736, 281.11777736, 281.11777736, 281.81672863,\n",
       "       281.81672863, 281.81672863, 281.81672863, 281.81672863,\n",
       "       281.81672863, 282.48771787, 282.48771787, 282.48771787,\n",
       "       282.48771787, 280.32752042, 280.32752042, 280.32752042,\n",
       "       280.32752042, 280.32752042, 280.32752042, 280.32752042,\n",
       "       281.88505157, 281.88505157, 280.33138807, 280.33138807,\n",
       "       280.33138807, 280.33138807, 280.33138807, 280.25144129,\n",
       "       280.25144129, 280.25144129, 280.20866345, 280.20866345,\n",
       "       280.20866345, 280.20866345, 280.20866345, 280.20866345,\n",
       "       280.20866345, 280.21007309, 280.21007309, 280.21007309,\n",
       "       280.21007309, 281.41970868, 281.41970868, 281.69956226,\n",
       "       281.69956226, 280.36461686, 280.36461686, 280.36461686,\n",
       "       280.36461686, 280.36461686, 280.36461686, 282.63549728,\n",
       "       282.63549728, 280.37227139, 280.37227139, 280.46419067,\n",
       "       280.46419067, 280.46419067, 281.46658149, 281.46658149,\n",
       "       281.46658149, 283.82031234, 283.82031234, 283.82031234,\n",
       "       283.82031234, 283.82031234, 283.82031234, 281.95750287,\n",
       "       281.95750287, 281.95750287, 281.13828646, 281.13828646,\n",
       "       281.13828646, 280.73911865, 280.73911865, 280.73911865,\n",
       "       280.73911865, 281.23248121, 281.23248121, 281.23248121,\n",
       "       281.23248121, 281.17928895, 281.17928895, 281.17928895,\n",
       "       281.17928895, 281.17928895, 281.00341968, 281.00341968,\n",
       "       281.00341968, 281.00341968])"
      ]
     },
     "execution_count": 20,
     "metadata": {},
     "output_type": "execute_result"
    }
   ],
   "source": [
    "T1[:,0]"
   ]
  },
  {
   "cell_type": "code",
   "execution_count": null,
   "metadata": {},
   "outputs": [],
   "source": []
  }
 ],
 "metadata": {
  "kernelspec": {
   "display_name": "Python 3",
   "language": "python3",
   "name": "python3"
  },
  "language_info": {
   "codemirror_mode": {
    "name": "ipython",
    "version": 3
   },
   "file_extension": ".py",
   "mimetype": "text/x-python",
   "name": "python",
   "nbconvert_exporter": "python",
   "pygments_lexer": "ipython3",
   "version": "3.6.6"
  }
 },
 "nbformat": 4,
 "nbformat_minor": 2
}
