{
 "cells": [
  {
   "cell_type": "markdown",
   "metadata": {},
   "source": [
    "# View time"
   ]
  },
  {
   "cell_type": "code",
   "execution_count": 1,
   "metadata": {},
   "outputs": [],
   "source": [
    "# view time profile\n",
    "import numpy as np\n",
    "import scipy, h5py\n",
    "import scipy.stats as stats\n",
    "import os,sys\n",
    "import tables\n",
    "import scipy.io as scio\n",
    "import matplotlib.pyplot as plt\n",
    "import uproot, argparse\n",
    "from scipy.optimize import minimize\n",
    "from scipy import interpolate\n",
    "from numpy.polynomial import legendre as LG\n",
    "from scipy import special\n",
    "import warnings"
   ]
  },
  {
   "cell_type": "code",
   "execution_count": 14,
   "metadata": {},
   "outputs": [
    {
     "data": {
      "image/png": "[encoded data removed]",
      "text/plain": [
       "<Figure size 432x288 with 1 Axes>"
      ]
     },
     "metadata": {
      "needs_background": "light"
     },
     "output_type": "display_data"
    }
   ],
   "source": [
    "# example of read 1 file\n",
    "h = tables.open_file('/mnt/stage/douwei/Simulation/1t_root/2.0MeV_T/1t_+0.55.h5')\n",
    "truthtable = h.root.GroundTruth\n",
    "EventID = truthtable[:]['EventID']\n",
    "ChannelID = truthtable[:]['ChannelID']\n",
    "PETime = truthtable[:]['PETime']\n",
    "photonTime = truthtable[:]['photonTime']\n",
    "PulseTime = truthtable[:]['PulseTime']\n",
    "dETime = truthtable[:]['dETime']\n",
    "h.close()\n",
    "\n",
    "flight_time = PulseTime - dETime\n",
    "flight_time = flight_time[~(flight_time==0)]\n",
    "\n",
    "plt.hist(flight_time,bins=100)\n",
    "plt.show()"
   ]
  },
  {
   "cell_type": "code",
   "execution_count": null,
   "metadata": {},
   "outputs": [],
   "source": []
  }
 ],
 "metadata": {
  "kernelspec": {
   "display_name": "Python 3",
   "language": "python",
   "name": "python3"
  },
  "language_info": {
   "codemirror_mode": {
    "name": "ipython",
    "version": 3
   },
   "file_extension": ".py",
   "mimetype": "text/x-python",
   "name": "python",
   "nbconvert_exporter": "python",
   "pygments_lexer": "ipython3",
   "version": "3.6.10"
  }
 },
 "nbformat": 4,
 "nbformat_minor": 2
}
