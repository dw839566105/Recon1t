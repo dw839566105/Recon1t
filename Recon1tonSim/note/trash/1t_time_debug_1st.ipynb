{
 "cells": [
  {
   "cell_type": "code",
   "execution_count": 56,
   "metadata": {},
   "outputs": [],
   "source": [
    "import numpy as np\n",
    "import scipy, h5py\n",
    "import scipy.stats as stats\n",
    "import os,sys\n",
    "import tables\n",
    "import scipy.io as scio\n",
    "import matplotlib.pyplot as plt\n",
    "import uproot, argparse\n",
    "from scipy.optimize import minimize\n",
    "from scipy import interpolate\n",
    "from numpy.polynomial import legendre as LG\n",
    "from scipy import special\n",
    "import warnings"
   ]
  },
  {
   "cell_type": "code",
   "execution_count": 57,
   "metadata": {},
   "outputs": [],
   "source": [
    "warnings.filterwarnings('ignore')\n",
    "\n",
    "h = tables.open_file('../../calib/Time_coeff_1t.h5','r')\n",
    "coeff = h.root.coeff[:]\n",
    "h.close()\n",
    "cut, fitcut = coeff.shape\n",
    "\n",
    "# physical constant\n",
    "Light_yield = 4285*0.88 # light yield\n",
    "Att_LS = 18 # attenuation length of LS\n",
    "Att_Wtr = 300 # attenuation length of water\n",
    "tau_r = 1.6 # fast time constant\n",
    "TTS = 5.5/2.355\n",
    "QE = 0.20\n",
    "PMT_radius = 0.254\n",
    "c = 2.99792e8\n",
    "n = 1.48\n",
    "shell = 0.6 # Acrylic"
   ]
  },
  {
   "cell_type": "code",
   "execution_count": 82,
   "metadata": {},
   "outputs": [],
   "source": [
    "def Likelihood_flight(vertex, *args):\n",
    "    coeff, PMT_pos, fired, time, cut = args\n",
    "    y = time - vertex[0]\n",
    "    dist = np.sqrt(np.sum((PMT_pos[fired] - vertex[1:4])**2, axis=1))\n",
    "    flight_time = dist/(c/n)*1e9\n",
    "    L = - np.nansum(TimeProfile_flight(y, flight_time))\n",
    "    return L\n",
    "\n",
    "def TimeProfile_flight(y,T_i):\n",
    "    time_correct = y - T_i\n",
    "    time_correct[time_correct<=-8] = -8\n",
    "    p_time = TimeUncertainty(time_correct, 26)\n",
    "    return p_time\n",
    "\n",
    "def TimeUncertainty(tc, tau_d):\n",
    "    TTS = 2.2\n",
    "    tau_r = 1.6\n",
    "    a1 = np.exp(((TTS**2 - tc*tau_d)**2-tc**2*tau_d**2)/(2*TTS**2*tau_d**2))\n",
    "    a2 = np.exp(((TTS**2*(tau_d+tau_r) - tc*tau_d*tau_r)**2 - tc**2*tau_d**2*tau_r**2)/(2*TTS**2*tau_d**2*tau_r**2))\n",
    "    a3 = np.exp(((TTS**2 - tc*tau_d)**2 - tc**2*tau_d**2)/(2*TTS**2*tau_d**2))*special.erf((tc*tau_d-TTS**2)/(np.sqrt(2)*tau_d*TTS))\n",
    "    a4 = np.exp(((TTS**2*(tau_d+tau_r) - tc*tau_d*tau_r)**2 - tc**2*tau_d**2*tau_r**2)/(2*TTS**2*tau_d**2*tau_r**2))*special.erf((tc*tau_d*tau_r-TTS**2*(tau_d+tau_r))/(np.sqrt(2)*tau_d*tau_r*TTS))\n",
    "    p_time  = np.log(tau_d + tau_r) - 2*np.log(tau_d) + np.log(a1-a2+a3-a4)\n",
    "    return p_time"
   ]
  },
  {
   "cell_type": "code",
   "execution_count": 83,
   "metadata": {},
   "outputs": [],
   "source": [
    "def Likelihood_fit(vertex, *args):\n",
    "    coeff, PMT_pos, fired, time, cut = args\n",
    "    y = time\n",
    "    # fixed axis\n",
    "    z = np.sqrt(np.sum(vertex[1:4]**2))/shell\n",
    "    cos_theta = np.sum(vertex[1:4]*PMT_pos,axis=1)\\\n",
    "        /np.sqrt(np.sum(vertex[1:4]**2)*np.sum(PMT_pos**2,axis=1))\n",
    "    # accurancy and nan value\n",
    "    cos_theta = np.nan_to_num(cos_theta)\n",
    "    cos_theta[cos_theta>1] = 1\n",
    "    cos_theta[cos_theta<-1] =-1\n",
    "\n",
    "    cos_total = cos_theta[fired]\n",
    "    \n",
    "    size = np.size(cos_total)\n",
    "    x = np.zeros((size, cut))\n",
    "    # legendre coeff\n",
    "    for i in np.arange(0,cut):\n",
    "        c = np.zeros(cut)\n",
    "        c[i] = 1\n",
    "        x[:,i] = LG.legval(cos_total,c)\n",
    "\n",
    "    k = np.zeros((1,cut))\n",
    "    for i in np.arange(cut):\n",
    "        # cubic interp\n",
    "        k[0,i] = np.sum(np.polynomial.legendre.legval(z,coeff[i,:]))\n",
    "    #k[0,1] = k[0,1] /14.4*0.8/3\n",
    "    #k[0,2:4] = k[0,2:4] /14.4*0.8*3\n",
    "    #k[0] = k[0] + np.log(vertex[0])\n",
    "    k[0,0] = vertex[0]\n",
    "    \n",
    "    T_i = np.dot(x, np.transpose(k))\n",
    "    L = Likelihood_quantile(y, T_i[:,0], 0.1, 0.3)\n",
    "    # L = - np.nansum(TimeProfile_fit(y, T_i[:,0]))\n",
    "    # print('%.2f\\t%.2f\\t%.2f\\t%.2f\\t%.2f\\t%.0f' % (k[0,1], k[0,2], k[0,3], k[0,4] ,z, L))\n",
    "    return L\n",
    "\n",
    "def Likelihood_quantile(y, T_i, tau, ts):\n",
    "    less = T_i[y<T_i] - y[y<T_i]\n",
    "    more = y[y>=T_i] - T_i[y>=T_i]\n",
    "\n",
    "    R = (1-tau)*np.sum(less) + tau*np.sum(more)\n",
    "    #log_Likelihood = exp\n",
    "    return R\n",
    "\n",
    "def TimeProfile_fit(y,T_i):\n",
    "    time_correct = y - T_i\n",
    "    time_correct[time_correct<=-8] = -8\n",
    "    p_time = TimeUncertainty_fit(time_correct, 10)\n",
    "    return p_time\n",
    "\n",
    "def TimeUncertainty_fit(tc, tau_d):\n",
    "    TTS = 2.2\n",
    "    tau_r = 1.6\n",
    "    a1 = np.exp(((TTS**2 - tc*tau_d)**2-tc**2*tau_d**2)/(2*TTS**2*tau_d**2))\n",
    "    a2 = np.exp(((TTS**2*(tau_d+tau_r) - tc*tau_d*tau_r)**2 - tc**2*tau_d**2*tau_r**2)/(2*TTS**2*tau_d**2*tau_r**2))\n",
    "    a3 = np.exp(((TTS**2 - tc*tau_d)**2 - tc**2*tau_d**2)/(2*TTS**2*tau_d**2))*special.erf((tc*tau_d-TTS**2)/(np.sqrt(2)*tau_d*TTS))\n",
    "    a4 = np.exp(((TTS**2*(tau_d+tau_r) - tc*tau_d*tau_r)**2 - tc**2*tau_d**2*tau_r**2)/(2*TTS**2*tau_d**2*tau_r**2))*special.erf((tc*tau_d*tau_r-TTS**2*(tau_d+tau_r))/(np.sqrt(2)*tau_d*tau_r*TTS))\n",
    "    p_time  = np.log(tau_d + tau_r) - 2*np.log(tau_d) + np.log(a1-a2+a3-a4)\n",
    "    return p_time"
   ]
  },
  {
   "cell_type": "code",
   "execution_count": 84,
   "metadata": {},
   "outputs": [],
   "source": [
    "def Likelihood_Time(vertex, *args):\n",
    "    coeff, PMT_pos, fired, time, cut = args\n",
    "    y = time - vertex[0]\n",
    "    # fixed axis\n",
    "    z = np.sqrt(np.sum(vertex[1:4]**2))/shell\n",
    "    cos_theta = np.sum(vertex[1:4]*PMT_pos,axis=1)\\\n",
    "        /np.sqrt(np.sum(vertex[1:4]**2)*np.sum(PMT_pos**2,axis=1))\n",
    "    # accurancy and nan value\n",
    "    cos_theta = np.nan_to_num(cos_theta)\n",
    "    cos_theta[cos_theta>1] = 1\n",
    "    cos_theta[cos_theta<-1] =-1\n",
    "\n",
    "    cos_total = cos_theta[fired]\n",
    "    \n",
    "    size = np.size(cos_total)\n",
    "    x = np.zeros((size, cut))\n",
    "    # legendre coeff\n",
    "    for i in np.arange(0,cut):\n",
    "        c = np.zeros(cut)\n",
    "        c[i] = 1\n",
    "        x[:,i] = LG.legval(cos_total,c)\n",
    "\n",
    "    k = np.zeros((1,cut))\n",
    "    for i in np.arange(cut):\n",
    "        # cubic interp\n",
    "        k[0,i] = np.sum(np.polynomial.legendre.legval(z,coeff[i,:]))\n",
    "    \n",
    "    #k[0] = k[0] + np.log(vertex[0])\n",
    "    k[0,0] = vertex[0]\n",
    "    T_i = np.dot(x, np.transpose(k))\n",
    "    #L = Likelihood_quantile(y, T_i[:,0], 0.01, 0.3)\n",
    "    L = - np.nansum(TimeProfile1(y, T_i[:,0]))\n",
    "    return L, y - T_i[:,0]\n",
    "\n",
    "def Likelihood_quantile(y, T_i, tau, ts):\n",
    "    less = T_i[y<T_i] - y[y<T_i]\n",
    "    more = y[y>=T_i] - T_i[y>=T_i]\n",
    "\n",
    "    R = (1-tau)*np.sum(less) + tau*np.sum(more)\n",
    "    #log_Likelihood = exp\n",
    "    return R\n",
    "\n",
    "def TimeProfile1(y,T_i):\n",
    "    time_correct = y - T_i\n",
    "    #time_correct[time_correct<=-8] = -8\n",
    "    plt.hist(time_correct, bins=100)\n",
    "    p_time = TimeUncertainty1(time_correct, 26)\n",
    "    return p_time\n",
    "\n",
    "def TimeUncertainty1(tc, tau_d):\n",
    "    TTS = 2.2\n",
    "    tau_r = 1.6\n",
    "    a1 = np.exp(((TTS**2 - tc*tau_d)**2-tc**2*tau_d**2)/(2*TTS**2*tau_d**2))\n",
    "    a2 = np.exp(((TTS**2*(tau_d+tau_r) - tc*tau_d*tau_r)**2 - tc**2*tau_d**2*tau_r**2)/(2*TTS**2*tau_d**2*tau_r**2))\n",
    "    a3 = np.exp(((TTS**2 - tc*tau_d)**2 - tc**2*tau_d**2)/(2*TTS**2*tau_d**2))*special.erf((tc*tau_d-TTS**2)/(np.sqrt(2)*tau_d*TTS))\n",
    "    a4 = np.exp(((TTS**2*(tau_d+tau_r) - tc*tau_d*tau_r)**2 - tc**2*tau_d**2*tau_r**2)/(2*TTS**2*tau_d**2*tau_r**2))*special.erf((tc*tau_d*tau_r-TTS**2*(tau_d+tau_r))/(np.sqrt(2)*tau_d*tau_r*TTS))\n",
    "    p_time  = np.log(tau_d + tau_r) - 2*np.log(tau_d) + np.log(a1-a2+a3-a4)\n",
    "    return p_time"
   ]
  },
  {
   "cell_type": "code",
   "execution_count": 85,
   "metadata": {},
   "outputs": [],
   "source": [
    "def con_sph(args):\n",
    "    E_min,\\\n",
    "    E_max,\\\n",
    "    tau_min,\\\n",
    "    tau_max,\\\n",
    "    t0_min,\\\n",
    "    t0_max\\\n",
    "    = args\n",
    "    cons = ({'type': 'ineq', 'fun': lambda x: shell**2 - (x[1]**2 + x[2]**2 + x[3]**2)})\n",
    "    return cons"
   ]
  },
  {
   "cell_type": "code",
   "execution_count": 86,
   "metadata": {},
   "outputs": [],
   "source": [
    "def ReadPMT():\n",
    "    f = open(r\"../PMT_1t.txt\")\n",
    "    line = f.readline()\n",
    "    data_list = [] \n",
    "    while line:\n",
    "        num = list(map(float,line.split()))\n",
    "        data_list.append(num)\n",
    "        line = f.readline()\n",
    "    f.close()\n",
    "    PMT_pos = np.array(data_list)\n",
    "    PMT_pos = PMT_pos\n",
    "    return PMT_pos"
   ]
  },
  {
   "cell_type": "code",
   "execution_count": 97,
   "metadata": {
    "scrolled": false
   },
   "outputs": [
    {
     "name": "stdout",
     "output_type": "stream",
     "text": [
      "[ 2.53914359e+02  5.08463940e-01 -7.20718856e-02  3.10274177e-01]\n"
     ]
    }
   ],
   "source": [
    "def main(event_count):\n",
    "    PMT_pos = ReadPMT()\n",
    "    fid = '/mnt/stage/douwei/Simulation/1t_root/1MeV_1_h5/1t_+0.30.h5'\n",
    "    # Loop for event\n",
    "\n",
    "    h = tables.open_file(fid,'r')\n",
    "    rawdata = h.root.GroundTruth\n",
    "    EventID = rawdata[:]['EventID']\n",
    "    ChannelID = rawdata[:]['ChannelID']\n",
    "    Time = rawdata[:]['PETime']\n",
    "    h.close()\n",
    "    index = (np.abs(EventID - event_count)<1e-3)\n",
    "    pe_array = np.zeros(np.size(PMT_pos[:,1])) # Photons on each PMT (PMT size * 1 vector)\n",
    "    fired_PMT = ChannelID[index]\n",
    "    for j in np.arange(np.size(fired_PMT)):\n",
    "        pe_array[fired_PMT[j]] = pe_array[fired_PMT[j]]+1\n",
    "\n",
    "    fired_PMT = fired_PMT.astype(int)        \n",
    "    time_array = Time[index]\n",
    "\n",
    "    # filter\n",
    "    index_1 = (time_array>np.mean(time_array)-100) & (time_array < np.mean(time_array)+100)\n",
    "    time_array = time_array[index_1]\n",
    "    fired_PMT = fired_PMT[index_1]\n",
    "\n",
    "    PMT_No = np.unique(fired_PMT)\n",
    "\n",
    "    time_final = np.zeros(np.size(PMT_No))\n",
    "    fired_final = np.zeros(np.size(PMT_No))\n",
    "\n",
    "    for j,k in enumerate(PMT_No):\n",
    "        time_final[j] = np.min(time_array[fired_PMT==k])\n",
    "        fired_final[j] = k\n",
    "\n",
    "    time_array = time_final\n",
    "    fired_PMT = fired_final\n",
    "    fired_PMT = fired_PMT.astype(int) \n",
    "        \n",
    "    # Constraints\n",
    "    E_min = 0.01\n",
    "    E_max = 10\n",
    "    tau_min = 0.01\n",
    "    tau_max = 100\n",
    "    t0_min = -300\n",
    "    t0_max = 300\n",
    "\n",
    "    # initial value\n",
    "    x0 = np.zeros((1,4))\n",
    "    x0[0][0] = np.mean(time_array) - 26\n",
    "    x0[0][1] = np.sum(pe_array*PMT_pos[:,0])/np.sum(pe_array)\n",
    "    x0[0][2] = np.sum(pe_array*PMT_pos[:,1])/np.sum(pe_array)\n",
    "    x0[0][3] = np.sum(pe_array*PMT_pos[:,2])/np.sum(pe_array)\n",
    "\n",
    "    con_args = E_min, E_max, tau_min, tau_max, t0_min, t0_max\n",
    "    cons_sph = con_sph(con_args)\n",
    "    #a1 = Likelihood_flight(np.array([0,0,0,0]), *(coeff, PMT_pos, fired_PMT, time_array, cut))\n",
    "\n",
    "    record = np.zeros((1,4))\n",
    "    \n",
    "    result0 = minimize(Likelihood_fit, x0, method='SLSQP',constraints=cons_sph, args = (coeff, PMT_pos, fired_PMT, time_array, cut))\n",
    "    result1 = minimize(Likelihood_flight, x0, method='SLSQP',constraints=cons_sph, args = (coeff, PMT_pos, fired_PMT, time_array, cut))\n",
    "    \n",
    "    #L1, T_i1 = Likelihood_Time(np.array(result0.x), *(coeff, PMT_pos, fired_PMT, time_array, cut))\n",
    "    #L2, T_i2 = Likelihood_Time(np.array([result0.x[0],0,0,0]), *(coeff, PMT_pos, fired_PMT, time_array, cut))\n",
    "\n",
    "    #a1 = Likelihood_flight(np.array((0,0,0,0)), *(coeff, PMT_pos, fired_PMT, time_array, cut))\n",
    "    return result0.x\n",
    "a = main(1)\n",
    "print(a)"
   ]
  },
  {
   "cell_type": "markdown",
   "metadata": {
    "scrolled": false
   },
   "source": [
    "## "
   ]
  },
  {
   "cell_type": "code",
   "execution_count": 98,
   "metadata": {
    "scrolled": false
   },
   "outputs": [],
   "source": [
    "record = [];\n",
    "for i in np.arange(1,100):\n",
    "    a = main(i)\n",
    "    record.append(a)"
   ]
  },
  {
   "cell_type": "code",
   "execution_count": 99,
   "metadata": {},
   "outputs": [
    {
     "data": {
      "text/plain": [
       "<matplotlib.collections.PathCollection at 0x7fff9b907a90>"
      ]
     },
     "execution_count": 99,
     "metadata": {},
     "output_type": "execute_result"
    },
    {
     "data": {
      "image/png": "[encoded data removed]",
      "text/plain": [
       "<Figure size 432x288 with 1 Axes>"
      ]
     },
     "metadata": {
      "needs_background": "light"
     },
     "output_type": "display_data"
    }
   ],
   "source": [
    "data = np.array(record)\n",
    "plt.scatter(data[:,1]**2 + data[:,2]**2, data[:,3])"
   ]
  },
  {
   "cell_type": "code",
   "execution_count": null,
   "metadata": {},
   "outputs": [],
   "source": []
  },
  {
   "cell_type": "code",
   "execution_count": null,
   "metadata": {},
   "outputs": [],
   "source": []
  }
 ],
 "metadata": {
  "kernelspec": {
   "display_name": "Python 3",
   "language": "python",
   "name": "python3"
  },
  "language_info": {
   "codemirror_mode": {
    "name": "ipython",
    "version": 3
   },
   "file_extension": ".py",
   "mimetype": "text/x-python",
   "name": "python",
   "nbconvert_exporter": "python",
   "pygments_lexer": "ipython3",
   "version": "3.6.10"
  }
 },
 "nbformat": 4,
 "nbformat_minor": 2
}
