{
 "cells": [
  {
   "cell_type": "code",
   "execution_count": 1,
   "metadata": {},
   "outputs": [],
   "source": [
    "import numpy as np\n",
    "import scipy, h5py\n",
    "import scipy.stats as stats\n",
    "import os,sys\n",
    "import tables\n",
    "import scipy.io as scio\n",
    "import matplotlib.pyplot as plt\n",
    "import uproot, argparse\n",
    "from scipy.optimize import minimize\n",
    "from scipy import interpolate\n",
    "from numpy.polynomial import legendre as LG\n",
    "from scipy import special\n",
    "import warnings"
   ]
  },
  {
   "cell_type": "code",
   "execution_count": 3,
   "metadata": {},
   "outputs": [],
   "source": [
    "warnings.filterwarnings('ignore')\n",
    "\n",
    "h = tables.open_file('../../calib/Time_coeff.h5','r')\n",
    "coeff = h.root.coeff[:]\n",
    "h.close()\n",
    "cut, fitcut = coeff.shape\n",
    "\n",
    "# physical constant\n",
    "Light_yield = 4285*0.88 # light yield\n",
    "Att_LS = 18 # attenuation length of LS\n",
    "Att_Wtr = 300 # attenuation length of water\n",
    "tau_r = 1.6 # fast time constant\n",
    "TTS = 5.5/2.355\n",
    "QE = 0.20\n",
    "PMT_radius = 0.254\n",
    "c = 2.99792e8\n",
    "n = 1.48\n",
    "shell = 12 # Acrylic"
   ]
  },
  {
   "cell_type": "code",
   "execution_count": 31,
   "metadata": {},
   "outputs": [],
   "source": [
    "def Likelihood_Time(vertex, *args):\n",
    "    coeff, PMT_pos, fired, time, cut = args\n",
    "    y = time\n",
    "    # fixed axis\n",
    "    z = np.sqrt(np.sum(vertex[1:4]**2))/12.2\n",
    "    cos_theta = np.sum(vertex[1:4]*PMT_pos,axis=1)\\\n",
    "        /np.sqrt(np.sum(vertex[1:4]**2)*np.sum(PMT_pos**2,axis=1))\n",
    "    # accurancy and nan value\n",
    "    cos_theta = np.nan_to_num(cos_theta)\n",
    "    cos_theta[cos_theta>1] = 1\n",
    "    cos_theta[cos_theta<-1] =-1\n",
    "\n",
    "    cos_total = cos_theta[fired]\n",
    "    \n",
    "    size = np.size(cos_total)\n",
    "    x = np.zeros((size, cut))\n",
    "    # legendre coeff\n",
    "    for i in np.arange(0,cut):\n",
    "        c = np.zeros(cut)\n",
    "        c[i] = 1\n",
    "        x[:,i] = LG.legval(cos_total,c)\n",
    "\n",
    "    k = np.zeros((1,cut))\n",
    "    for i in np.arange(cut):\n",
    "        # cubic interp\n",
    "        k[0,i] = np.sum(np.polynomial.legendre.legval(z,coeff[i,:]))\n",
    "    \n",
    "    #k[0] = k[0] + np.log(vertex[0])\n",
    "    k[0,0] = vertex[0]\n",
    "    T_i = np.dot(x, np.transpose(k))\n",
    "    #L = Likelihood_quantile(y, T_i[:,0], 0.01, 0.3)\n",
    "    L = - np.nansum(TimeProfile(y, T_i[:,0]))\n",
    "    return L, T_i[:,0]"
   ]
  },
  {
   "cell_type": "code",
   "execution_count": 5,
   "metadata": {},
   "outputs": [],
   "source": [
    "def Likelihood_quantile(y, T_i, tau, ts):\n",
    "    less = T_i[y<T_i] - y[y<T_i]\n",
    "    more = y[y>=T_i] - T_i[y>=T_i]\n",
    "\n",
    "    R = (1-tau)*np.sum(less) + tau*np.sum(more)\n",
    "    #log_Likelihood = exp\n",
    "    return R"
   ]
  },
  {
   "cell_type": "code",
   "execution_count": 25,
   "metadata": {},
   "outputs": [],
   "source": [
    "def TimeProfile(y,T_i):\n",
    "    time_correct = y - T_i\n",
    "    time_correct[time_correct<=-8] = -8\n",
    "    plt.hist(time_correct, bins=100)\n",
    "    p_time = TimeUncertainty(time_correct, 26)\n",
    "    return p_time"
   ]
  },
  {
   "cell_type": "code",
   "execution_count": 7,
   "metadata": {},
   "outputs": [],
   "source": [
    "def TimeUncertainty(tc, tau_d):\n",
    "    TTS = 2.2\n",
    "    tau_r = 1.6\n",
    "    a1 = np.exp(((TTS**2 - tc*tau_d)**2-tc**2*tau_d**2)/(2*TTS**2*tau_d**2))\n",
    "    a2 = np.exp(((TTS**2*(tau_d+tau_r) - tc*tau_d*tau_r)**2 - tc**2*tau_d**2*tau_r**2)/(2*TTS**2*tau_d**2*tau_r**2))\n",
    "    a3 = np.exp(((TTS**2 - tc*tau_d)**2 - tc**2*tau_d**2)/(2*TTS**2*tau_d**2))*special.erf((tc*tau_d-TTS**2)/(np.sqrt(2)*tau_d*TTS))\n",
    "    a4 = np.exp(((TTS**2*(tau_d+tau_r) - tc*tau_d*tau_r)**2 - tc**2*tau_d**2*tau_r**2)/(2*TTS**2*tau_d**2*tau_r**2))*special.erf((tc*tau_d*tau_r-TTS**2*(tau_d+tau_r))/(np.sqrt(2)*tau_d*tau_r*TTS))\n",
    "    p_time  = np.log(tau_d + tau_r) - 2*np.log(tau_d) + np.log(a1-a2+a3-a4)\n",
    "    return p_time"
   ]
  },
  {
   "cell_type": "code",
   "execution_count": 8,
   "metadata": {},
   "outputs": [],
   "source": [
    "def con_sph(args):\n",
    "    E_min,\\\n",
    "    E_max,\\\n",
    "    tau_min,\\\n",
    "    tau_max,\\\n",
    "    t0_min,\\\n",
    "    t0_max\\\n",
    "    = args\n",
    "    cons = ({'type': 'ineq', 'fun': lambda x: shell**2 - (x[1]**2 + x[2]**2 + x[3]**2)})\n",
    "    return cons"
   ]
  },
  {
   "cell_type": "code",
   "execution_count": 9,
   "metadata": {},
   "outputs": [],
   "source": [
    "def ReadPMT():\n",
    "    f = open(r\"../PMT_5kt.txt\")\n",
    "    line = f.readline()\n",
    "    data_list = [] \n",
    "    while line:\n",
    "        num = list(map(float,line.split()))\n",
    "        data_list.append(num)\n",
    "        line = f.readline()\n",
    "    f.close()\n",
    "    PMT_pos = np.array(data_list)\n",
    "    PMT_pos = PMT_pos[:,1:4]\n",
    "    return PMT_pos"
   ]
  },
  {
   "cell_type": "code",
   "execution_count": 32,
   "metadata": {},
   "outputs": [
    {
     "name": "stdout",
     "output_type": "stream",
     "text": [
      "[[ 3.28324117e+02  1.85519155e-01  9.85850688e-02 -3.33518591e-01]]\n"
     ]
    },
    {
     "data": {
      "image/png": "[encoded data removed]",
      "text/plain": [
       "<Figure size 432x288 with 1 Axes>"
      ]
     },
     "metadata": {
      "needs_background": "light"
     },
     "output_type": "display_data"
    }
   ],
   "source": [
    "PMT_pos = ReadPMT()\n",
    "event_count = 0\n",
    "fid = '/mnt/stage/douwei/Simulation/5kt_root/2MeV_h5/5kt_+0.00.h5'\n",
    "# Loop for event\n",
    "\n",
    "h = tables.open_file(fid,'r')\n",
    "rawdata = h.root.GroundTruth\n",
    "EventID = rawdata[:]['EventID']\n",
    "ChannelID = rawdata[:]['ChannelID'] - 1\n",
    "Time = rawdata[:]['PETime']\n",
    "\n",
    "for i in np.arange(1):\n",
    "    event_count = event_count + 1\n",
    "    index = (EventID==event_count)\n",
    "    pe_array = np.zeros(np.size(PMT_pos[:,1])) # Photons on each PMT (PMT size * 1 vector)\n",
    "    fired_PMT = ChannelID[index]\n",
    "    for j in np.arange(np.size(fired_PMT)):\n",
    "        pe_array[fired_PMT[j]] = pe_array[fired_PMT[j]]+1\n",
    "\n",
    "    time_array = Time[index]        \n",
    "    fired_PMT = fired_PMT.astype(int)\n",
    "    # initial result\n",
    "    result_vertex = np.empty((0,6)) # reconstructed vertex\n",
    "    # initial value x[0] = [1,6]\n",
    "\n",
    "    # Constraints\n",
    "    E_min = 0.01\n",
    "    E_max = 10\n",
    "    tau_min = 0.01\n",
    "    tau_max = 100\n",
    "    t0_min = -300\n",
    "    t0_max = 300\n",
    "\n",
    "    # initial value\n",
    "    x0 = np.zeros((1,4))\n",
    "    x0[0][0] = np.mean(time_array)\n",
    "    x0[0][1] = np.sum(pe_array*PMT_pos[:,0])/np.sum(pe_array)/1e3\n",
    "    x0[0][2] = np.sum(pe_array*PMT_pos[:,1])/np.sum(pe_array)/1e3\n",
    "    x0[0][3] = np.sum(pe_array*PMT_pos[:,2])/np.sum(pe_array)/1e3\n",
    "    \n",
    "    con_args = E_min, E_max, tau_min, tau_max, t0_min, t0_max\n",
    "    cons_sph = con_sph(con_args)\n",
    "    record = np.zeros((1,4))\n",
    "    print(x0)\n",
    "    L1, T_i1 = Likelihood_Time(np.array([284.86790049,5.41700065,-2.56592721,-1.20187376]), *(coeff, PMT_pos, fired_PMT, time_array, cut))\n",
    "    L2, T_i2 = Likelihood_Time(np.array([284.86790049,0,0,0]), *(coeff, PMT_pos, fired_PMT, time_array, cut))"
   ]
  },
  {
   "cell_type": "code",
   "execution_count": 37,
   "metadata": {
    "scrolled": false
   },
   "outputs": [
    {
     "data": {
      "image/png": "[encoded data removed]",
      "text/plain": [
       "<Figure size 432x288 with 1 Axes>"
      ]
     },
     "metadata": {
      "needs_background": "light"
     },
     "output_type": "display_data"
    },
    {
     "data": {
      "image/png": "[encoded data removed]",
      "text/plain": [
       "<Figure size 432x288 with 1 Axes>"
      ]
     },
     "metadata": {
      "needs_background": "light"
     },
     "output_type": "display_data"
    }
   ],
   "source": [
    "plt.hist(T_i1,bins=100)\n",
    "plt.show()\n",
    "plt.hist(T_i2,bins=100)\n",
    "plt.show()"
   ]
  },
  {
   "cell_type": "code",
   "execution_count": 39,
   "metadata": {},
   "outputs": [
    {
     "name": "stdout",
     "output_type": "stream",
     "text": [
      "[22.10442494  0.29793374  3.62704881  0.19110072 -0.71555735]\n"
     ]
    }
   ],
   "source": [
    "print(coeff[:,0])\n",
    "print(coeff[0,:])"
   ]
  },
  {
   "cell_type": "code",
   "execution_count": null,
   "metadata": {},
   "outputs": [],
   "source": []
  }
 ],
 "metadata": {
  "kernelspec": {
   "display_name": "Python 3",
   "language": "python",
   "name": "python3"
  },
  "language_info": {
   "codemirror_mode": {
    "name": "ipython",
    "version": 3
   },
   "file_extension": ".py",
   "mimetype": "text/x-python",
   "name": "python",
   "nbconvert_exporter": "python",
   "pygments_lexer": "ipython3",
   "version": "3.6.10"
  }
 },
 "nbformat": 4,
 "nbformat_minor": 2
}
