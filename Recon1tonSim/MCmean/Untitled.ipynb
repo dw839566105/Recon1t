{
 "cells": [
  {
   "cell_type": "code",
   "execution_count": 33,
   "metadata": {},
   "outputs": [],
   "source": [
    "import tables\n",
    "import numpy as np\n",
    "import h5py\n",
    "\n",
    "r1 = np.arange(0.01, 0.40, 0.01)\n",
    "r2 = np.arange(0.40, 0.65, 0.002)\n",
    "r = np.hstack((r1,r2))\n",
    "ra = []\n",
    "data = []\n",
    "for radius in r:\n",
    "    h1 = tables.open_file(\"./file%.3f.h5\" % radius)\n",
    "    try:\n",
    "        a = h1.root.result[:]\n",
    "        data.append(a)\n",
    "        ra.append(radius)\n",
    "    except:\n",
    "        print(radius)\n",
    "        pass\n",
    "    h1.close()"
   ]
  },
  {
   "cell_type": "code",
   "execution_count": 9,
   "metadata": {},
   "outputs": [],
   "source": [
    "real = []\n",
    "recon = []\n",
    "for index, x in enumerate(ra):\n",
    "    real = np.hstack((real, ra[index] * np.ones(np.size(data[index]))))\n",
    "    recon = np.hstack((recon, data[index]))"
   ]
  },
  {
   "cell_type": "code",
   "execution_count": 21,
   "metadata": {},
   "outputs": [
    {
     "data": {
      "text/plain": [
       "<matplotlib.contour.QuadContourSet at 0x7f53bbaa9e10>"
      ]
     },
     "execution_count": 21,
     "metadata": {},
     "output_type": "execute_result"
    },
    {
     "data": {
      "image/png": "[encoded data removed]",
      "text/plain": [
       "<Figure size 432x288 with 1 Axes>"
      ]
     },
     "metadata": {
      "needs_background": "light"
     },
     "output_type": "display_data"
    }
   ],
   "source": [
    "import matplotlib.pyplot as plt\n",
    "\n",
    "H, xedges, yedges = np.histogram2d(real, recon, bins=30)\n",
    "\n",
    "plt.contourf(xedges[0:-1], yedges[0:-1], np.log(np.nan_to_num(H)+1).T)\n",
    "#plt.hist2d(real, recon, bins=30)\n",
    "#plt.show()"
   ]
  },
  {
   "cell_type": "code",
   "execution_count": 32,
   "metadata": {},
   "outputs": [
    {
     "data": {
      "text/plain": [
       "(array([ 1454.,    49.,    23.,    69.,    85.,    33.,    20.,    23.,\n",
       "           55.,    76.,    58.,    31.,    28.,   128.,   101.,   148.,\n",
       "          115.,   248.,  1204., 12101.]),\n",
       " array([0.01  , 0.0419, 0.0738, 0.1057, 0.1376, 0.1695, 0.2014, 0.2333,\n",
       "        0.2652, 0.2971, 0.329 , 0.3609, 0.3928, 0.4247, 0.4566, 0.4885,\n",
       "        0.5204, 0.5523, 0.5842, 0.6161, 0.648 ]),\n",
       " <a list of 20 Patch objects>)"
      ]
     },
     "execution_count": 32,
     "metadata": {},
     "output_type": "execute_result"
    },
    {
     "data": {
      "image/png": "[encoded data removed]",
      "text/plain": [
       "<Figure size 432x288 with 1 Axes>"
      ]
     },
     "metadata": {
      "needs_background": "light"
     },
     "output_type": "display_data"
    }
   ],
   "source": [
    "h1 = tables.open_file(\"./file0.640.h5\" % radius)\n",
    "plt.hist(h1.root.result[:], bins=20)"
   ]
  },
  {
   "cell_type": "code",
   "execution_count": null,
   "metadata": {},
   "outputs": [],
   "source": []
  }
 ],
 "metadata": {
  "kernelspec": {
   "display_name": "Python 3",
   "language": "python",
   "name": "python3"
  },
  "language_info": {
   "codemirror_mode": {
    "name": "ipython",
    "version": 3
   },
   "file_extension": ".py",
   "mimetype": "text/x-python",
   "name": "python",
   "nbconvert_exporter": "python",
   "pygments_lexer": "ipython3",
   "version": "3.6.10"
  }
 },
 "nbformat": 4,
 "nbformat_minor": 2
}
