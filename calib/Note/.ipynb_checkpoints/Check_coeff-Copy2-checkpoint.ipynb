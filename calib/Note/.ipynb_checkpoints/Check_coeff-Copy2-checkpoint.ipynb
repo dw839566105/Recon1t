{
 "cells": [
  {
   "cell_type": "markdown",
   "metadata": {},
   "source": [
    "# view 1t and 5 kt coeff"
   ]
  },
  {
   "cell_type": "code",
   "execution_count": 1,
   "metadata": {},
   "outputs": [],
   "source": [
    "import numpy as np\n",
    "import matplotlib.pyplot as plt\n",
    "import tables\n",
    "import h5py\n",
    "import os, sys\n",
    "from scipy.spatial.distance import pdist, squareform\n",
    "from scipy.optimize import curve_fit\n",
    "from scipy.linalg import norm\n",
    "from numpy.polynomial import legendre as LG"
   ]
  },
  {
   "cell_type": "markdown",
   "metadata": {},
   "source": [
    "# 1t coeff\n",
    "#### pe"
   ]
  },
  {
   "cell_type": "code",
   "execution_count": 2,
   "metadata": {
    "scrolled": false
   },
   "outputs": [],
   "source": [
    "def load_coeff(order):\n",
    "    h = tables.open_file('../PE_coeff_1t' + order + '.h5','r')\n",
    "    coeff_pe_in = h.root.poly_in[:]\n",
    "    coeff_pe_out = h.root.poly_out[:]\n",
    "    h.close()\n",
    "    cut_pe, fitcut_pe = coeff_pe_in.shape\n",
    "\n",
    "    h = tables.open_file('../Time_coeff_1t' + order + '.h5','r')\n",
    "    coeff_time_in = h.root.poly_in[:]\n",
    "    coeff_time_out = h.root.poly_out[:]\n",
    "    h.close()\n",
    "    cut_time, fitcut_time = coeff_time_in.shape\n",
    "    return coeff_pe_in, coeff_pe_out, coeff_time_in, coeff_time_out, cut_pe, fitcut_pe, cut_time, fitcut_time"
   ]
  },
  {
   "cell_type": "code",
   "execution_count": 3,
   "metadata": {
    "scrolled": false
   },
   "outputs": [],
   "source": [
    "shell_in = 0.85 # Acrylic\n",
    "shell_out = 0.8\n",
    "\n",
    "def r2c(c):\n",
    "    v = np.zeros(3)\n",
    "    v[2] = c[0] * np.cos(c[1]) #z\n",
    "    rho = c[0] * np.sin(c[1])\n",
    "    v[0] = rho * np.cos(c[2]) #x\n",
    "    v[1] = rho * np.sin(c[2]) #y\n",
    "    return v\n",
    "\n",
    "def c2r(c):\n",
    "    v = np.zeros(3)\n",
    "    v[0] = norm(c)\n",
    "    v[1] = np.arccos(c[2]/(v[0]+1e-6))\n",
    "    v[2] = np.arctan(c[1]/(c[0]+1e-6)) + (c[0]<0)*np.pi\n",
    "    return v\n",
    "\n",
    "def ReadPMT():\n",
    "    f = open(r\"../PMT_1t.txt\")\n",
    "    line = f.readline()\n",
    "    data_list = [] \n",
    "    while line:\n",
    "        num = list(map(float,line.split()))\n",
    "        data_list.append(num)\n",
    "        line = f.readline()\n",
    "    f.close()\n",
    "    PMT_pos = np.array(data_list)\n",
    "    return PMT_pos"
   ]
  },
  {
   "cell_type": "code",
   "execution_count": 4,
   "metadata": {
    "scrolled": false
   },
   "outputs": [],
   "source": [
    "def CalcExp(vertex):\n",
    "    PMT_pos = ReadPMT()\n",
    "    coeff_pe_in, coeff_pe_out, coeff_time_in, coeff_time_out, cut_pe, fitcut_pe, cut_time, fitcut_time = load_coeff('15')\n",
    "    cut = 10\n",
    "    radius = np.arange(0,0.65,0.01)/0.65\n",
    "    expect = np.zeros((30,np.size(radius)))\n",
    "    for z_index,z in enumerate(radius):\n",
    "        if(z>shell_out):\n",
    "            str_s = 'out'\n",
    "            coeff = coeff_pe_out\n",
    "        elif(z<shell_in):\n",
    "            str_s = 'in'\n",
    "            coeff = coeff_pe_in\n",
    "\n",
    "        if z<1e-3:\n",
    "            # assume (0,0,1)\n",
    "            # cos_theta = PMT_pos[:,2] / norm(PMT_pos,axis=1)\n",
    "            z = 1e-3\n",
    "            v = vertex\n",
    "            cos_theta = np.dot(v,PMT_pos.T) / (norm(v)*norm(PMT_pos,axis=1))\n",
    "        else:\n",
    "            v = vertex\n",
    "            cos_theta = np.dot(v,PMT_pos.T) / (norm(v)*norm(PMT_pos,axis=1))\n",
    "        # print(cos_theta)\n",
    "        size = np.size(PMT_pos[:,0])\n",
    "        x = np.zeros((size, cut))\n",
    "        # legendre theta of PMTs\n",
    "        for i in np.arange(0,cut):\n",
    "            c = np.zeros(cut)\n",
    "            c[i] = 1\n",
    "            x[:,i] = LG.legval(cos_theta,c)\n",
    "        # legendre coeff by polynomials\n",
    "        k = np.zeros(cut)\n",
    "        for i in np.arange(cut):\n",
    "            # Legendre fit\n",
    "            # k[i] = np.sum(np.polynomial.legendre.legval(z,coeff[i,:]))\n",
    "            # polynomial fit\n",
    "\n",
    "            if(i % 2 == 0):\n",
    "                # k[i] = coeff[i,0] + coeff[i,1] * z ** 2 + coeff[i,2] * z ** 4 + coeff[i,3] * z ** 6 + coeff[i,4] * z ** 8 + \\\n",
    "                k[i] = np.sum(coeff[i,:] * z ** np.arange(0,2*np.size(coeff[i,:]),2))\n",
    "\n",
    "            elif(i % 2 == 1):\n",
    "                # k[i] = coeff[i,0] * z + coeff[i,1] * z ** 3 + coeff[i,2] * z ** 5 + coeff[i,3] * z ** 7 + coeff[i,4] * z ** 9\n",
    "                k[i] = np.sum(coeff[i,:] * z ** np.arange(1,2*np.size(coeff[i,:])+1,2))\n",
    "        expect[:,z_index] = np.exp(np.dot(x,k))\n",
    "    return expect"
   ]
  },
  {
   "cell_type": "code",
   "execution_count": 5,
   "metadata": {
    "scrolled": true
   },
   "outputs": [
    {
     "name": "stdout",
     "output_type": "stream",
     "text": [
      "[[ 4.80747594  4.86391839  4.92601199 ...  0.25691959  0.13062237\n",
      "   0.02816374]\n",
      " [ 4.88039911  4.91521266  4.95372955 ...  1.92222298  0.6099447\n",
      "   0.06279324]\n",
      " [ 4.8702978   4.83973367  4.80813831 ...  2.34254893  0.86989152\n",
      "   0.07733708]\n",
      " ...\n",
      " [ 4.37482363  4.47035634  4.57185983 ... 21.87596801  7.78489824\n",
      "   1.84375937]\n",
      " [ 4.90418246  4.8163576   4.72991736 ...  2.36891807  0.84135983\n",
      "   0.07349833]\n",
      " [ 4.87463865  4.9065267   4.94178567 ...  2.32541818  0.72111828\n",
      "   0.07028625]]\n"
     ]
    }
   ],
   "source": [
    "expect_z = CalcExp(np.array((0, 2, 10)))\n",
    "expect_y = CalcExp(np.array((0, -10, 2)))\n",
    "expect_x = CalcExp(np.array((10, 0, 0)))\n",
    "\n",
    "print(expect_x)"
   ]
  },
  {
   "cell_type": "code",
   "execution_count": 6,
   "metadata": {
    "scrolled": false
   },
   "outputs": [],
   "source": [
    "def readfile(filename):\n",
    "    h1 = tables.open_file(filename,'r')\n",
    "    print(filename)\n",
    "    truthtable = h1.root.GroundTruth\n",
    "    EventID = truthtable[:]['EventID']\n",
    "    ChannelID = truthtable[:]['ChannelID']\n",
    "    \n",
    "    x = h1.root.TruthData[:]['x']\n",
    "    y = h1.root.TruthData[:]['y']\n",
    "    z = h1.root.TruthData[:]['z']\n",
    "    #print(x.shape)\n",
    "    #print(np.sum(x**2+y**2+z**2<0.1))\n",
    "    #exit()\n",
    "    h1.close()\n",
    "    #print(x.shape, EventID.shape, np.unique(EventID).shape, np.std(y),np.sum(x**2+y**2+z**2>0.1))\n",
    "    dn = np.where((x==0) & (y==0) & (z==0))\n",
    "    dn_index = (x==0) & (y==0) & (z==0)\n",
    "    #print(np.sum(dn_index))\n",
    "    pin = dn[0] + np.min(EventID)\n",
    "    if(np.sum(x**2+y**2+z**2>0.1)>0):\n",
    "        cnt = 0        \n",
    "        for ID in np.arange(np.min(EventID), np.max(EventID)+1):\n",
    "            if ID in pin:\n",
    "                cnt = cnt+1\n",
    "                #print('Trigger No:', EventID[EventID==ID])\n",
    "                #print('Fired PMT', ChannelID[EventID==ID])\n",
    "                \n",
    "                ChannelID = ChannelID[~(EventID == ID)]\n",
    "                EventID = EventID[~(EventID == ID)]\n",
    "                \n",
    "                #print(cnt, ID, EventID.shape,(np.unique(EventID)).shape)\n",
    "        x = x[~dn_index]\n",
    "        y = y[~dn_index]\n",
    "        z = z[~dn_index]\n",
    "    #print(x.shape, EventID.shape, np.unique(EventID).shape,np.std(y),np.sum(x**2+y**2+z**2>0.1))\n",
    "    return (EventID, ChannelID, x, y, z)\n",
    "\n",
    "def readchain(radius, path, axis):\n",
    "    for i in np.arange(0, 3):\n",
    "        if(i == 0):\n",
    "            #filename = path + '1t_' + radius + '.h5'\n",
    "            filename = '%s1t_%s_%s.h5' % (path, radius, axis)\n",
    "            EventID, ChannelID, x, y, z = readfile(filename)\n",
    "        else:\n",
    "            try:\n",
    "                filename = '%s1t_%s_%s_%d.h5' % (path, radius, axis, i)\n",
    "                EventID1, ChannelID1, x1, y1, z1 = readfile(filename)\n",
    "                EventID = np.hstack((EventID, EventID1))\n",
    "                ChannelID = np.hstack((ChannelID, ChannelID1))\n",
    "                x = np.hstack((x, x1))\n",
    "                y = np.hstack((y, y1))\n",
    "                z = np.hstack((z, z1))\n",
    "            except:\n",
    "                pass\n",
    "\n",
    "    return EventID, ChannelID, x, y, z"
   ]
  },
  {
   "cell_type": "code",
   "execution_count": 8,
   "metadata": {
    "scrolled": false
   },
   "outputs": [],
   "source": [
    "def CalMean(axis):\n",
    "    PMT_pos = ReadPMT()\n",
    "    for ra_index, ra in enumerate(np.arange(0.0001,0.70,0.05)):\n",
    "        EventID, ChannelID, x, y, z = readchain('%+.2f' % ra, '/mnt/stage/douwei/Simulation/1t_root/2.0MeV_xyz/', axis)\n",
    "\n",
    "        size = np.size(np.unique(EventID))\n",
    "        total_pe = np.zeros(np.size(PMT_pos[:,0])*size)\n",
    "\n",
    "        for k_index, k in enumerate(np.unique(EventID)):\n",
    "                if not k_index % 1e4:\n",
    "                    print('preprocessing %d-th event' % k_index)\n",
    "                hit = ChannelID[EventID == k]\n",
    "                tabulate = np.bincount(hit)\n",
    "                event_pe = np.zeros(np.size(PMT_pos[:,0]))\n",
    "                # tabulate begin with 0\n",
    "                event_pe[0:np.size(tabulate)] = tabulate\n",
    "                total_pe[(k_index) * np.size(PMT_pos[:,0]) : (k_index + 1) * np.size(PMT_pos[:,0])] = event_pe\n",
    "                # although it will be repeated, mainly for later EM:\n",
    "                # vertex[0,(k_index) * np.size(PMT_pos[:,0]) : (k_index + 1) * np.size(PMT_pos[:,0])] = x[k_index]\n",
    "                # vertex[1,(k_index) * np.size(PMT_pos[:,0]) : (k_index + 1) * np.size(PMT_pos[:,0])] = y[k_index]\n",
    "                # vertex[2,(k_index) * np.size(PMT_pos[:,0]) : (k_index + 1) * np.size(PMT_pos[:,0])] = z[k_index]\n",
    "                # total_pe[(k_index) * np.size(PMT_pos[:,0]) : (k_index + 1) * np.size(PMT_pos[:,0])] = event_pe\n",
    "        a = np.mean((np.reshape(total_pe,(30,-1),order='F')),axis=1)\n",
    "    return a\n",
    "    \n",
    "    '''\n",
    "    plt.figure(num = ra_index + 1,figsize=(20,10))\n",
    "    plt.subplot(1,2,1)\n",
    "    plt.plot(a)\n",
    "    plt.plot(expect_z[:,ra_index*5])\n",
    "    plt.xlabel('PMT No')\n",
    "    plt.ylabel('Receive photons')\n",
    "    plt.legend(['Mean','predict'])\n",
    "    plt.title('radius = %.2f m' % ra)\n",
    "    plt.subplot(1,2,2)\n",
    "    plt.plot(a)\n",
    "    plt.plot(expect_z[:,ra_index*5])\n",
    "    plt.semilogy()\n",
    "    plt.xlabel('PMT No')\n",
    "    plt.ylabel('Receive photons')\n",
    "    plt.legend(['Mean','predict'])\n",
    "    plt.title('radius = %.2f m' % ra)\n",
    "    plt.show()\n",
    "    '''"
   ]
  },
  {
   "cell_type": "code",
   "execution_count": 10,
   "metadata": {},
   "outputs": [
    {
     "name": "stdout",
     "output_type": "stream",
     "text": [
      "/mnt/stage/douwei/Simulation/1t_root/2.0MeV_xyz/1t_+0.00_x.h5\n",
      "/mnt/stage/douwei/Simulation/1t_root/2.0MeV_xyz/1t_+0.00_x_1.h5\n",
      "/mnt/stage/douwei/Simulation/1t_root/2.0MeV_xyz/1t_+0.00_x_2.h5\n",
      "preprocessing 0-th event\n",
      "preprocessing 10000-th event\n",
      "preprocessing 20000-th event\n",
      "/mnt/stage/douwei/Simulation/1t_root/2.0MeV_xyz/1t_+0.00_y.h5\n",
      "/mnt/stage/douwei/Simulation/1t_root/2.0MeV_xyz/1t_+0.00_y_1.h5\n",
      "/mnt/stage/douwei/Simulation/1t_root/2.0MeV_xyz/1t_+0.00_y_2.h5\n",
      "preprocessing 0-th event\n",
      "preprocessing 10000-th event\n",
      "preprocessing 20000-th event\n",
      "/mnt/stage/douwei/Simulation/1t_root/2.0MeV_xyz/1t_+0.00_z.h5\n",
      "/mnt/stage/douwei/Simulation/1t_root/2.0MeV_xyz/1t_+0.00_z_1.h5\n",
      "/mnt/stage/douwei/Simulation/1t_root/2.0MeV_xyz/1t_+0.00_z_2.h5\n",
      "preprocessing 0-th event\n",
      "preprocessing 10000-th event\n",
      "preprocessing 20000-th event\n"
     ]
    }
   ],
   "source": [
    "ax = CalMean('x')\n",
    "ay = CalMean('y')\n",
    "az = CalMean('z')"
   ]
  },
  {
   "cell_type": "code",
   "execution_count": null,
   "metadata": {},
   "outputs": [],
   "source": [
    "for ra_index, ra in enumerate(np.arange(0.0001,0.60,0.05)):\n",
    "    EventID, ChannelID, x, y, z = readchain('%+.2f' % ra, '/mnt/stage/douwei/Simulation/1t_root/2.0MeV_xyz/', 'x')\n",
    "    \n",
    "    size = np.size(np.unique(EventID))\n",
    "    total_pe = np.zeros(np.size(PMT_pos[:,0])*size)\n",
    "        \n",
    "    for k_index, k in enumerate(np.unique(EventID)):\n",
    "            if not k_index % 1e4:\n",
    "                print('preprocessing %d-th event' % k_index)\n",
    "            hit = ChannelID[EventID == k]\n",
    "            tabulate = np.bincount(hit)\n",
    "            event_pe = np.zeros(np.size(PMT_pos[:,0]))\n",
    "            # tabulate begin with 0\n",
    "            event_pe[0:np.size(tabulate)] = tabulate\n",
    "            total_pe[(k_index) * np.size(PMT_pos[:,0]) : (k_index + 1) * np.size(PMT_pos[:,0])] = event_pe\n",
    "            # although it will be repeated, mainly for later EM:\n",
    "            # vertex[0,(k_index) * np.size(PMT_pos[:,0]) : (k_index + 1) * np.size(PMT_pos[:,0])] = x[k_index]\n",
    "            # vertex[1,(k_index) * np.size(PMT_pos[:,0]) : (k_index + 1) * np.size(PMT_pos[:,0])] = y[k_index]\n",
    "            # vertex[2,(k_index) * np.size(PMT_pos[:,0]) : (k_index + 1) * np.size(PMT_pos[:,0])] = z[k_index]\n",
    "            total_pe[(k_index) * np.size(PMT_pos[:,0]) : (k_index + 1) * np.size(PMT_pos[:,0])] = event_pe\n",
    "    a = np.mean((np.reshape(total_pe,(30,-1),order='F')),axis=1)\n",
    "    plt.figure(num = ra_index + 1,figsize=(20,10))\n",
    "    plt.subplot(1,2,1)\n",
    "    plt.plot(a)\n",
    "    plt.plot(expect_x[:,ra_index*5])\n",
    "    plt.xlabel('PMT No')\n",
    "    plt.ylabel('Receive photons')\n",
    "    plt.legend(['Mean','predict'])\n",
    "    plt.title('radius = %.2f m' % ra)\n",
    "    plt.subplot(1,2,2)\n",
    "    plt.plot(a)\n",
    "    plt.plot(expect_z[:,ra_index*5])\n",
    "    plt.semilogy()\n",
    "    plt.xlabel('PMT No')\n",
    "    plt.ylabel('Receive photons')\n",
    "    plt.legend(['Mean','predict'])\n",
    "    plt.title('radius = %.2f m' % ra)\n",
    "    plt.show()"
   ]
  },
  {
   "cell_type": "code",
   "execution_count": null,
   "metadata": {},
   "outputs": [],
   "source": [
    "for ra_index, ra in enumerate(np.arange(0.0001,0.60,0.05)):\n",
    "    EventID, ChannelID, x, y, z = readchain('%+.2f' % ra, '/mnt/stage/douwei/Simulation/1t_root/2.0MeV_015/')\n",
    "    \n",
    "    size = np.size(np.unique(EventID))\n",
    "    total_pe = np.zeros(np.size(PMT_pos[:,0])*size)\n",
    "        \n",
    "    for k_index, k in enumerate(np.unique(EventID)):\n",
    "            if not k_index % 1e4:\n",
    "                print('preprocessing %d-th event' % k_index)\n",
    "            hit = ChannelID[EventID == k]\n",
    "            tabulate = np.bincount(hit)\n",
    "            event_pe = np.zeros(np.size(PMT_pos[:,0]))\n",
    "            # tabulate begin with 0\n",
    "            event_pe[0:np.size(tabulate)] = tabulate\n",
    "            total_pe[(k_index) * np.size(PMT_pos[:,0]) : (k_index + 1) * np.size(PMT_pos[:,0])] = event_pe\n",
    "            # although it will be repeated, mainly for later EM:\n",
    "            # vertex[0,(k_index) * np.size(PMT_pos[:,0]) : (k_index + 1) * np.size(PMT_pos[:,0])] = x[k_index]\n",
    "            # vertex[1,(k_index) * np.size(PMT_pos[:,0]) : (k_index + 1) * np.size(PMT_pos[:,0])] = y[k_index]\n",
    "            # vertex[2,(k_index) * np.size(PMT_pos[:,0]) : (k_index + 1) * np.size(PMT_pos[:,0])] = z[k_index]\n",
    "            total_pe[(k_index) * np.size(PMT_pos[:,0]) : (k_index + 1) * np.size(PMT_pos[:,0])] = event_pe\n",
    "    a = np.mean((np.reshape(total_pe,(30,-1),order='F')),axis=1)\n",
    "    plt.figure(num = ra_index + 1,figsize=(20,10))\n",
    "    plt.subplot(1,2,1)\n",
    "    plt.bar(np.arange(30),a)\n",
    "    plt.bar(np.arange(30),expect[:,ra_index*5])\n",
    "    plt.xlabel('PMT No')\n",
    "    plt.ylabel('Receive photons')\n",
    "    plt.legend(['Mean','predict'])\n",
    "    plt.title('radius = %.2f m' % ra)\n",
    "    plt.subplot(1,2,2)\n",
    "    plt.bar(np.arange(30),a)\n",
    "    plt.bar(np.arange(30),expect[:,ra_index*5])\n",
    "    plt.semilogy()\n",
    "    plt.xlabel('PMT No')\n",
    "    plt.ylabel('Receive photons')\n",
    "    plt.legend(['Mean','predict'])\n",
    "    plt.title('radius = %.2f m' % ra)\n",
    "    plt.show()"
   ]
  },
  {
   "cell_type": "code",
   "execution_count": null,
   "metadata": {},
   "outputs": [],
   "source": [
    "np.mean((np.reshape(total_pe,(30,-1),order='F')),axis=1)"
   ]
  },
  {
   "cell_type": "code",
   "execution_count": 24,
   "metadata": {
    "scrolled": false
   },
   "outputs": [
    {
     "data": {
      "image/png": "[encoded data removed]",
      "text/plain": [
       "<Figure size 432x288 with 1 Axes>"
      ]
     },
     "metadata": {
      "needs_background": "light"
     },
     "output_type": "display_data"
    },
    {
     "data": {
      "image/png": "[encoded data removed]",
      "text/plain": [
       "<Figure size 432x288 with 1 Axes>"
      ]
     },
     "metadata": {
      "needs_background": "light"
     },
     "output_type": "display_data"
    },
    {
     "data": {
      "image/png": "[encoded data removed]",
      "text/plain": [
       "<Figure size 432x288 with 1 Axes>"
      ]
     },
     "metadata": {
      "needs_background": "light"
     },
     "output_type": "display_data"
    },
    {
     "data": {
      "image/png": "[encoded data removed]",
      "text/plain": [
       "<Figure size 432x288 with 1 Axes>"
      ]
     },
     "metadata": {
      "needs_background": "light"
     },
     "output_type": "display_data"
    },
    {
     "data": {
      "image/png": "[encoded data removed]",
      "text/plain": [
       "<Figure size 432x288 with 1 Axes>"
      ]
     },
     "metadata": {
      "needs_background": "light"
     },
     "output_type": "display_data"
    },
    {
     "data": {
      "image/png": "[encoded data removed]",
      "text/plain": [
       "<Figure size 432x288 with 1 Axes>"
      ]
     },
     "metadata": {
      "needs_background": "light"
     },
     "output_type": "display_data"
    },
    {
     "data": {
      "image/png": "[encoded data removed]",
      "text/plain": [
       "<Figure size 432x288 with 1 Axes>"
      ]
     },
     "metadata": {
      "needs_background": "light"
     },
     "output_type": "display_data"
    },
    {
     "data": {
      "image/png": "[encoded data removed]",
      "text/plain": [
       "<Figure size 432x288 with 1 Axes>"
      ]
     },
     "metadata": {
      "needs_background": "light"
     },
     "output_type": "display_data"
    },
    {
     "data": {
      "image/png": "[encoded data removed]",
      "text/plain": [
       "<Figure size 432x288 with 1 Axes>"
      ]
     },
     "metadata": {
      "needs_background": "light"
     },
     "output_type": "display_data"
    },
    {
     "data": {
      "image/png": "[encoded data removed]",
      "text/plain": [
       "<Figure size 432x288 with 1 Axes>"
      ]
     },
     "metadata": {
      "needs_background": "light"
     },
     "output_type": "display_data"
    }
   ],
   "source": [
    "PMT_pos = ReadPMT()\n",
    "coeff_pe_in, coeff_pe_out, coeff_time_in, coeff_time_out, cut_pe, fitcut_pe, cut_time, fitcut_time = load_coeff('10')\n",
    "cut = 10\n",
    "radius = np.arange(0,0.65,0.01)/0.65\n",
    "expect = np.zeros((30,np.size(radius)))\n",
    "\n",
    "size = np.size(PMT_pos[:,0])\n",
    "x = np.zeros((size, cut))\n",
    "# legendre theta of PMTs\n",
    "\n",
    "k = np.zeros((np.size(radius),cut))    \n",
    "for j_index,j in enumerate(radius):\n",
    "    coeff = coeff_pe_in\n",
    "    z = j \n",
    "\n",
    "    for i in np.arange(cut):\n",
    "        # Legendre fit\n",
    "        # k[i] = np.sum(np.polynomial.legendre.legval(z,coeff[i,:]))\n",
    "        # polynomial fit\n",
    "\n",
    "        if(i % 2 == 0):\n",
    "            # k[i] = coeff[i,0] + coeff[i,1] * z ** 2 + coeff[i,2] * z ** 4 + coeff[i,3] * z ** 6 + coeff[i,4] * z ** 8 + \\\n",
    "            k[j_index,i] = np.sum(coeff[i,:] * z ** np.arange(0,2*np.size(coeff[i,:]),2))\n",
    "\n",
    "        elif(i % 2 == 1):\n",
    "            # k[i] = coeff[i,0] * z + coeff[i,1] * z ** 3 + coeff[i,2] * z ** 5 + coeff[i,3] * z ** 7 + coeff[i,4] * z ** 9\n",
    "            k[j_index,i] = np.sum(coeff[i,:] * z ** np.arange(1,2*np.size(coeff[i,:])+1,2))\n",
    "\n",
    "#print(k)\n",
    "for i in np.arange(10):\n",
    "    plt.plot(radius[0:50],k[0:50,i])\n",
    "    plt.show()\n",
    "#plt.xlim([0,0.75])"
   ]
  },
  {
   "cell_type": "code",
   "execution_count": 24,
   "metadata": {
    "scrolled": false
   },
   "outputs": [
    {
     "name": "stdout",
     "output_type": "stream",
     "text": [
      "[ 0  2 10]\n",
      "10.198039027185569\n",
      "[ 0  2 10]\n",
      "[ 0  2 10]\n",
      "10.198039027185569\n",
      "[ 0  2 10]\n",
      "[ 0  2 10]\n",
      "10.198039027185569\n",
      "[ 0  2 10]\n",
      "[ 0  2 10]\n",
      "10.198039027185569\n",
      "[ 0  2 10]\n",
      "[ 0  2 10]\n",
      "10.198039027185569\n",
      "[ 0  2 10]\n",
      "[ 0  2 10]\n",
      "10.198039027185569\n",
      "[ 0  2 10]\n",
      "[ 0  2 10]\n",
      "10.198039027185569\n",
      "[ 0  2 10]\n",
      "[ 0  2 10]\n",
      "10.198039027185569\n",
      "[ 0  2 10]\n",
      "[ 0  2 10]\n",
      "10.198039027185569\n",
      "[ 0  2 10]\n",
      "[ 0  2 10]\n",
      "10.198039027185569\n",
      "[ 0  2 10]\n",
      "[ 0  2 10]\n",
      "10.198039027185569\n",
      "[ 0  2 10]\n",
      "[ 0  2 10]\n",
      "10.198039027185569\n",
      "[ 0  2 10]\n",
      "[ 0  2 10]\n",
      "10.198039027185569\n",
      "[ 0  2 10]\n",
      "[ 0  2 10]\n",
      "10.198039027185569\n",
      "[ 0  2 10]\n",
      "[ 0  2 10]\n",
      "10.198039027185569\n",
      "[ 0  2 10]\n",
      "[ 0  2 10]\n",
      "10.198039027185569\n",
      "[ 0  2 10]\n",
      "[ 0  2 10]\n",
      "10.198039027185569\n",
      "[ 0  2 10]\n",
      "[ 0  2 10]\n",
      "10.198039027185569\n",
      "[ 0  2 10]\n",
      "[ 0  2 10]\n",
      "10.198039027185569\n",
      "[ 0  2 10]\n",
      "[ 0  2 10]\n",
      "10.198039027185569\n",
      "[ 0  2 10]\n",
      "[ 0  2 10]\n",
      "10.198039027185569\n",
      "[ 0  2 10]\n",
      "[ 0  2 10]\n",
      "10.198039027185569\n",
      "[ 0  2 10]\n",
      "[ 0  2 10]\n",
      "10.198039027185569\n",
      "[ 0  2 10]\n",
      "[ 0  2 10]\n",
      "10.198039027185569\n",
      "[ 0  2 10]\n",
      "[ 0  2 10]\n",
      "10.198039027185569\n",
      "[ 0  2 10]\n",
      "[ 0  2 10]\n",
      "10.198039027185569\n",
      "[ 0  2 10]\n",
      "[ 0  2 10]\n",
      "10.198039027185569\n",
      "[ 0  2 10]\n",
      "[ 0  2 10]\n",
      "10.198039027185569\n",
      "[ 0  2 10]\n",
      "[ 0  2 10]\n",
      "10.198039027185569\n",
      "[ 0  2 10]\n",
      "[ 0  2 10]\n",
      "10.198039027185569\n",
      "[ 0  2 10]\n",
      "[ 0  2 10]\n",
      "10.198039027185569\n",
      "[ 0  2 10]\n",
      "[ 0  2 10]\n",
      "10.198039027185569\n",
      "[ 0  2 10]\n",
      "[ 0  2 10]\n",
      "10.198039027185569\n",
      "[ 0  2 10]\n",
      "[ 0  2 10]\n",
      "10.198039027185569\n",
      "[ 0  2 10]\n",
      "[ 0  2 10]\n",
      "10.198039027185569\n",
      "[ 0  2 10]\n",
      "[ 0  2 10]\n",
      "10.198039027185569\n",
      "[ 0  2 10]\n",
      "[ 0  2 10]\n",
      "10.198039027185569\n",
      "[ 0  2 10]\n",
      "[ 0  2 10]\n",
      "10.198039027185569\n",
      "[ 0  2 10]\n",
      "[ 0  2 10]\n",
      "10.198039027185569\n",
      "[ 0  2 10]\n",
      "[ 0  2 10]\n",
      "10.198039027185569\n",
      "[ 0  2 10]\n",
      "[ 0  2 10]\n",
      "10.198039027185569\n",
      "[ 0  2 10]\n",
      "[ 0  2 10]\n",
      "10.198039027185569\n",
      "[ 0  2 10]\n",
      "[ 0  2 10]\n",
      "10.198039027185569\n",
      "[ 0  2 10]\n",
      "[ 0  2 10]\n",
      "10.198039027185569\n",
      "[ 0  2 10]\n",
      "[ 0  2 10]\n",
      "10.198039027185569\n",
      "[ 0  2 10]\n",
      "[ 0  2 10]\n",
      "10.198039027185569\n",
      "[ 0  2 10]\n",
      "[ 0  2 10]\n",
      "10.198039027185569\n",
      "[ 0  2 10]\n",
      "[ 0  2 10]\n",
      "10.198039027185569\n",
      "[ 0  2 10]\n",
      "[ 0  2 10]\n",
      "10.198039027185569\n",
      "[ 0  2 10]\n",
      "[ 0  2 10]\n",
      "10.198039027185569\n",
      "[ 0  2 10]\n",
      "[ 0  2 10]\n",
      "10.198039027185569\n",
      "[ 0  2 10]\n",
      "[ 0  2 10]\n",
      "10.198039027185569\n",
      "[ 0  2 10]\n",
      "[ 0  2 10]\n",
      "10.198039027185569\n",
      "[ 0  2 10]\n",
      "[ 0  2 10]\n",
      "10.198039027185569\n",
      "[ 0  2 10]\n",
      "[ 0  2 10]\n",
      "10.198039027185569\n",
      "[ 0  2 10]\n",
      "[ 0  2 10]\n",
      "10.198039027185569\n",
      "[ 0  2 10]\n",
      "[ 0  2 10]\n",
      "10.198039027185569\n",
      "[ 0  2 10]\n",
      "[ 0  2 10]\n",
      "10.198039027185569\n",
      "[ 0  2 10]\n",
      "[ 0  2 10]\n",
      "10.198039027185569\n",
      "[ 0  2 10]\n",
      "[ 0  2 10]\n",
      "10.198039027185569\n",
      "[ 0  2 10]\n",
      "[ 0  2 10]\n",
      "10.198039027185569\n",
      "[ 0  2 10]\n",
      "[ 0  2 10]\n",
      "10.198039027185569\n",
      "[ 0  2 10]\n",
      "[ 0  2 10]\n",
      "10.198039027185569\n",
      "[ 0  2 10]\n",
      "[ 0  2 10]\n",
      "10.198039027185569\n",
      "[ 0  2 10]\n",
      "[ 0  2 10]\n",
      "10.198039027185569\n"
     ]
    }
   ],
   "source": [
    "vertex = np.array((0,2,10))\n",
    "PMT_pos = ReadPMT()\n",
    "coeff_pe_in, coeff_pe_out, coeff_time_in, coeff_time_out, cut_pe, fitcut_pe, cut_time, fitcut_time = load_coeff('10')\n",
    "cut = 10\n",
    "radius = np.arange(0,0.65,0.01)/0.65\n",
    "expect = np.zeros((30,np.size(radius)))\n",
    "for z_index,z in enumerate(radius):\n",
    "    print(vertex)\n",
    "    if(z>shell_out):\n",
    "        str_s = 'out'\n",
    "        coeff = coeff_pe_out\n",
    "    elif(z<shell_in):\n",
    "        str_s = 'in'\n",
    "        coeff = coeff_pe_in\n",
    "\n",
    "    if z<1e-3:\n",
    "        # assume (0,0,1)\n",
    "        # cos_theta = PMT_pos[:,2] / norm(PMT_pos,axis=1)\n",
    "        vertex[0] = 1e-3\n",
    "        z = 1e-3\n",
    "        v = vertex\n",
    "        print(norm(v))\n",
    "        cos_theta = np.dot(v,PMT_pos.T) / (norm(v)*norm(PMT_pos,axis=1))\n",
    "    else:\n",
    "        v = vertex\n",
    "        print(vertex)\n",
    "        print(norm(v))\n",
    "        cos_theta = np.dot(v,PMT_pos.T) / (norm(v)*norm(PMT_pos,axis=1))\n",
    "\n",
    "    size = np.size(PMT_pos[:,0])\n",
    "    x = np.zeros((size, cut))\n",
    "    # legendre theta of PMTs\n",
    "    for i in np.arange(0,cut):\n",
    "        c = np.zeros(cut)\n",
    "        c[i] = 1\n",
    "        x[:,i] = LG.legval(cos_theta,c)\n",
    "        \n",
    "    #print(np.sort(cos_theta))"
   ]
  },
  {
   "cell_type": "markdown",
   "metadata": {},
   "source": [
    "## "
   ]
  }
 ],
 "metadata": {
  "kernelspec": {
   "display_name": "Python 3",
   "language": "python",
   "name": "python3"
  },
  "language_info": {
   "codemirror_mode": {
    "name": "ipython",
    "version": 3
   },
   "file_extension": ".py",
   "mimetype": "text/x-python",
   "name": "python",
   "nbconvert_exporter": "python",
   "pygments_lexer": "ipython3",
   "version": "3.6.10"
  }
 },
 "nbformat": 4,
 "nbformat_minor": 2
}
