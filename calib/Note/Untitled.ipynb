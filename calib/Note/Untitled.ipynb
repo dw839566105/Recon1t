{
 "cells": [
  {
   "cell_type": "code",
   "execution_count": 1,
   "metadata": {},
   "outputs": [
    {
     "name": "stderr",
     "output_type": "stream",
     "text": [
      "/home/orv/gentoo/usr/lib64/python3.6/site-packages/h5py/__init__.py:36: FutureWarning: Conversion of the second argument of issubdtype from `float` to `np.floating` is deprecated. In future, it will be treated as `np.float64 == np.dtype(float).type`.\n",
      "  from ._conv import register_converters as _register_converters\n"
     ]
    }
   ],
   "source": [
    "import numpy as np \n",
    "import scipy, h5py\n",
    "import tables\n",
    "import sys\n",
    "from scipy.optimize import minimize\n",
    "from numpy.polynomial import legendre as LG\n",
    "import matplotlib.pyplot as plt"
   ]
  },
  {
   "cell_type": "code",
   "execution_count": 2,
   "metadata": {},
   "outputs": [],
   "source": [
    "def Calib(theta, *args):\n",
    "    total_pe, PMT_pos, cut = args\n",
    "    y = total_pe\n",
    "    # fixed axis\n",
    "    x = Legendre_coeff(PMT_pos, *(cut,))\n",
    "    # Poisson regression\n",
    "    L = - np.sum(np.sum(np.transpose(y)*np.transpose(np.dot(x, theta)) \\\n",
    "        - np.transpose(np.exp(np.dot(x, theta)))))\n",
    "    return L"
   ]
  },
  {
   "cell_type": "code",
   "execution_count": 3,
   "metadata": {},
   "outputs": [],
   "source": [
    "def Legendre_coeff(PMT_pos, *args):\n",
    "    cut, = args\n",
    "    vertex = np.array([0,2,10,0])\n",
    "    cos_theta = np.sum(vertex[1:4]*PMT_pos,axis=1)\\\n",
    "        /np.sqrt(np.sum(vertex[1:4]**2)*np.sum(PMT_pos**2,axis=1))\n",
    "    # accurancy and nan value\n",
    "    cos_theta = np.nan_to_num(cos_theta)\n",
    "    cos_theta[cos_theta>1] = 1\n",
    "    cos_theta[cos_theta<-1] =-1\n",
    "    size = np.size(PMT_pos[:,0])\n",
    "    x = np.zeros((size, cut))\n",
    "    # legendre coeff\n",
    "    for i in np.arange(0,cut):\n",
    "        c = np.zeros(cut)\n",
    "        c[i] = 1\n",
    "        x[:,i] = LG.legval(cos_theta,c)\n",
    "    return x  "
   ]
  },
  {
   "cell_type": "code",
   "execution_count": 4,
   "metadata": {},
   "outputs": [],
   "source": [
    "def hessian(x, *args):\n",
    "    total_pe, PMT_pos, cut = args\n",
    "    H = np.zeros((len(x),len(x)))\n",
    "    h = 1e-3\n",
    "    k = 1e-3\n",
    "    for i in np.arange(len(x)):\n",
    "        for j in np.arange(len(x)):\n",
    "            if (i != j):\n",
    "                delta1 = np.zeros(len(x))\n",
    "                delta1[i] = h\n",
    "                delta1[j] = k\n",
    "                delta2 = np.zeros(len(x))\n",
    "                delta2[i] = -h\n",
    "                delta2[j] = k\n",
    "\n",
    "\n",
    "                L1 = - Calib(x + delta1, *(total_pe, PMT_pos, cut))\n",
    "                L2 = - Calib(x - delta1, *(total_pe, PMT_pos, cut))\n",
    "                L3 = - Calib(x + delta2, *(total_pe, PMT_pos, cut))\n",
    "                L4 = - Calib(x - delta2, *(total_pe, PMT_pos, cut))\n",
    "                H[i,j] = (L1+L2-L3-L4)/(4*h*k)\n",
    "            else:\n",
    "                delta = np.zeros(len(x))\n",
    "                delta[i] = h\n",
    "                L1 = - Calib(x + delta, *(total_pe, PMT_pos, cut))\n",
    "                L2 = - Calib(x - delta, *(total_pe, PMT_pos, cut))\n",
    "                L3 = - Calib(x, *(total_pe, PMT_pos, cut))\n",
    "                H[i,j] = (L1+L2-2*L3)/h**2                \n",
    "    return H"
   ]
  },
  {
   "cell_type": "code",
   "execution_count": 3,
   "metadata": {},
   "outputs": [],
   "source": [
    "def main_Calib(Energy, radius, cut):\n",
    "    filename = Energy + '/calib' + radius + '.h5'\n",
    "\n",
    "    # read files by table\n",
    "    h1 = tables.open_file(filename,'r')\n",
    "    print(filename)\n",
    "    truthtable = h1.root.GroundTruth\n",
    "    EventID = truthtable[:]['EventID']\n",
    "    ChannelID = truthtable[:]['ChannelID']\n",
    "    h1.close()\n",
    "    \n",
    "    # read file series\n",
    "    \n",
    "    try:\n",
    "        for j in np.arange(1,10,1):\n",
    "            filename = Energy + '/calib' + radius + '_' + str(j)+ '.h5'           \n",
    "            h1 = tables.open_file(filename,'r')\n",
    "            print(filename)\n",
    "            truthtable = h1.root.GroundTruth\n",
    "\n",
    "            EventID_tmp = truthtable[:]['EventID']\n",
    "            ChannelID_tmp = truthtable[:]['ChannelID']\n",
    "            EventID = np.hstack((EventID, EventID_tmp))\n",
    "            ChannelID = np.hstack((ChannelID, ChannelID_tmp))\n",
    "\n",
    "            h1.close()\n",
    "    except:\n",
    "        j = j - 1\n",
    "    \n",
    "    total_pe = np.zeros((np.size(PMT_pos[:,0]),max(EventID)))\n",
    "    for k in np.arange(1, max(EventID)):\n",
    "        event_pe = np.zeros(np.size(PMT_pos[:,0]))\n",
    "        hit = ChannelID[EventID == k]\n",
    "        tabulate = np.bincount(hit)\n",
    "        event_pe[0:np.size(tabulate)] = tabulate\n",
    "        total_pe[:,k-1] = event_pe\n",
    "    theta0 = np.zeros(cut) # initial value\n",
    "    result = minimize(Calib,theta0, method='SLSQP',args = (total_pe, PMT_pos, cut))  \n",
    "    record = np.array(result.x, dtype=float)\n",
    "    \n",
    "    H = hessian(result.x, *(total_pe, PMT_pos, cut))\n",
    "    H_I = np.linalg.pinv(np.matrix(H))\n",
    "    \n",
    "    x = Legendre_coeff(PMT_pos, *(cut,))\n",
    "    expect = np.mean(total_pe, axis=1)\n",
    "    args = (total_pe, PMT_pos, cut)\n",
    "    predict = [];\n",
    "    predict.append(np.exp(np.dot(x, result.x)))\n",
    "    #predict.append(expect)\n",
    "    predict = np.transpose(predict)\n",
    "    sum1 = 2*np.sum(- total_pe + predict + np.nan_to_num(total_pe*np.log(total_pe/predict)), axis=1)/(np.max(EventID)-30)\n",
    "    \n",
    "    return sum1"
   ]
  },
  {
   "cell_type": "code",
   "execution_count": 9,
   "metadata": {},
   "outputs": [
    {
     "name": "stdout",
     "output_type": "stream",
     "text": [
      "../0.8MeV/calib+0.00.h5\n"
     ]
    },
    {
     "name": "stderr",
     "output_type": "stream",
     "text": [
      "/home/orv/gentoo/usr/lib64/python3.6/site-packages/ipykernel_launcher.py:7: RuntimeWarning: overflow encountered in exp\n",
      "  import sys\n",
      "/home/orv/gentoo/usr/lib64/python3.6/site-packages/ipykernel_launcher.py:51: RuntimeWarning: divide by zero encountered in log\n",
      "/home/orv/gentoo/usr/lib64/python3.6/site-packages/ipykernel_launcher.py:51: RuntimeWarning: invalid value encountered in multiply\n"
     ]
    },
    {
     "name": "stdout",
     "output_type": "stream",
     "text": [
      "../0.8MeV/calib+0.00.h5\n",
      "../0.8MeV/calib+0.00.h5\n",
      "../0.8MeV/calib+0.00.h5\n",
      "../0.8MeV/calib+0.00.h5\n",
      "../0.8MeV/calib+0.00.h5\n"
     ]
    },
    {
     "name": "stderr",
     "output_type": "stream",
     "text": [
      "/home/orv/gentoo/usr/lib64/python3.6/site-packages/numpy/core/fromnumeric.py:86: RuntimeWarning: overflow encountered in reduce\n",
      "  return ufunc.reduce(obj, axis, dtype, out, **passkwargs)\n"
     ]
    },
    {
     "name": "stdout",
     "output_type": "stream",
     "text": [
      "../0.8MeV/calib+0.00.h5\n",
      "../0.8MeV/calib+0.00.h5\n",
      "../0.8MeV/calib+0.00.h5\n",
      "../0.8MeV/calib+0.00.h5\n",
      "../0.8MeV/calib+0.00.h5\n",
      "../0.8MeV/calib+0.00.h5\n",
      "../0.8MeV/calib+0.00.h5\n",
      "../0.8MeV/calib+0.00.h5\n",
      "../0.8MeV/calib+0.00.h5\n",
      "../0.8MeV/calib+0.00.h5\n",
      "../0.8MeV/calib+0.00.h5\n",
      "../0.8MeV/calib+0.00.h5\n",
      "../0.8MeV/calib+0.00.h5\n",
      "../0.8MeV/calib+0.00.h5\n",
      "../0.8MeV/calib+0.00.h5\n",
      "../0.8MeV/calib+0.00.h5\n",
      "../0.8MeV/calib+0.00.h5\n",
      "../0.8MeV/calib+0.00.h5\n",
      "../0.8MeV/calib+0.00.h5\n"
     ]
    }
   ],
   "source": [
    "f = open(r'../PMT1t.txt')\n",
    "line = f.readline()\n",
    "data_list = []\n",
    "while line:\n",
    "    num = list(map(float,line.split()))\n",
    "    data_list.append(num)\n",
    "    line = f.readline()\n",
    "f.close()\n",
    "PMT_pos = np.array(data_list)\n",
    "cut1 = 25 # Legend order\n",
    "coeff = np.zeros(cut1)\n",
    "for i in np.arange(cut1):\n",
    "    coeff[i] = main_Calib('../0.8MeV','+0.00', i+1)/30"
   ]
  },
  {
   "cell_type": "code",
   "execution_count": 16,
   "metadata": {},
   "outputs": [
    {
     "data": {
      "text/plain": [
       "array([31.25355463, 31.25353987, 31.25028137, 31.24988812, 31.24926721,\n",
       "       31.24904264, 31.24693743, 31.24687593, 31.24667487, 31.24357998,\n",
       "       31.23674118, 31.23648915, 31.23647181, 31.23497934, 31.23334958,\n",
       "       31.23334958, 31.23334958, 31.23334958, 31.23334958, 31.23334958,\n",
       "       31.23334958, 31.23334958, 31.23334958, 31.23334958, 31.23334958])"
      ]
     },
     "execution_count": 16,
     "metadata": {},
     "output_type": "execute_result"
    }
   ],
   "source": [
    "coeff*30"
   ]
  },
  {
   "cell_type": "code",
   "execution_count": null,
   "metadata": {},
   "outputs": [
    {
     "name": "stdout",
     "output_type": "stream",
     "text": [
      "../0.8MeV/calib+0.01.h5\n"
     ]
    },
    {
     "name": "stderr",
     "output_type": "stream",
     "text": [
      "/home/orv/gentoo/usr/lib64/python3.6/site-packages/ipykernel_launcher.py:7: RuntimeWarning: overflow encountered in exp\n",
      "  import sys\n",
      "/home/orv/gentoo/usr/lib64/python3.6/site-packages/ipykernel_launcher.py:51: RuntimeWarning: divide by zero encountered in log\n",
      "/home/orv/gentoo/usr/lib64/python3.6/site-packages/ipykernel_launcher.py:51: RuntimeWarning: invalid value encountered in multiply\n"
     ]
    }
   ],
   "source": [
    "f = open(r'../PMT1t.txt')\n",
    "line = f.readline()\n",
    "data_list = []\n",
    "while line:\n",
    "    num = list(map(float,line.split()))\n",
    "    data_list.append(num)\n",
    "    line = f.readline()\n",
    "f.close()\n",
    "PMT_pos = np.array(data_list)\n",
    "cut1 = 6 # Legend order\n",
    "coeff = main_Calib('../0.8MeV','+0.01', 5)"
   ]
  },
  {
   "cell_type": "code",
   "execution_count": 29,
   "metadata": {},
   "outputs": [
    {
     "data": {
      "text/plain": [
       "array([1.073783  , 1.0527889 , 1.04929019, 1.05248855, 1.03930544,\n",
       "       1.01708677, 1.05408382, 1.02170999, 1.05350372, 1.03664912,\n",
       "       1.0367034 , 1.0595286 , 1.06443929, 1.03299461, 1.05727294,\n",
       "       1.00918892, 1.05227416, 1.04243729, 1.0556442 , 1.04517507,\n",
       "       1.08187887, 1.01731415, 1.01135762, 1.01257796, 1.03355807,\n",
       "       1.03258785, 1.03440057, 1.06268936, 1.03832569, 1.04800231])"
      ]
     },
     "execution_count": 29,
     "metadata": {},
     "output_type": "execute_result"
    }
   ],
   "source": [
    "coeff"
   ]
  },
  {
   "cell_type": "code",
   "execution_count": null,
   "metadata": {},
   "outputs": [],
   "source": []
  }
 ],
 "metadata": {
  "kernelspec": {
   "display_name": "Python 3",
   "language": "python3",
   "name": "python3"
  },
  "language_info": {
   "codemirror_mode": {
    "name": "ipython",
    "version": 3
   },
   "file_extension": ".py",
   "mimetype": "text/x-python",
   "name": "python",
   "nbconvert_exporter": "python",
   "pygments_lexer": "ipython3",
   "version": "3.6.6"
  }
 },
 "nbformat": 4,
 "nbformat_minor": 2
}
