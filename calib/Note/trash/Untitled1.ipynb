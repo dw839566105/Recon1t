{
 "cells": [
  {
   "cell_type": "code",
   "execution_count": 1,
   "metadata": {},
   "outputs": [],
   "source": [
    "import numpy as np\n",
    "import matplotlib.pyplot as plt\n",
    "import tables\n",
    "import h5py\n",
    "from scipy.spatial.distance import pdist, squareform\n",
    "import os"
   ]
  },
  {
   "cell_type": "code",
   "execution_count": 67,
   "metadata": {
    "scrolled": false
   },
   "outputs": [
    {
     "name": "stdout",
     "output_type": "stream",
     "text": [
      "[0.90073993 1.05086325 0.85069883 ... 0.9808057  1.01083037 0.95078104] 2.2504220709151923e-12\n"
     ]
    },
    {
     "data": {
      "image/png": "[encoded data removed]",
      "text/plain": [
       "<Figure size 432x288 with 1 Axes>"
      ]
     },
     "metadata": {
      "needs_background": "light"
     },
     "output_type": "display_data"
    }
   ],
   "source": [
    "# view fit pe goodness\n",
    "def findfile(radius):\n",
    "    filename = '../coeff_pe_5kt_sparse_21/5kt_' + radius + '.h5'\n",
    "    #print(filename)\n",
    "    h = tables.open_file(filename,'r')\n",
    "    coeff = np.array(h.root.coeff)[:]\n",
    "    expect = np.array(h.root.mean)[:]\n",
    "    predict = np.array(h.root.predict)[:]\n",
    "    h.close()\n",
    "    return coeff, expect, predict\n",
    "\n",
    "coeff = [];\n",
    "expect = [];\n",
    "predict = [];\n",
    "\n",
    "a1,a2,a3 = findfile('+0.00')\n",
    "mean = np.exp(np.sum(np.log(np.array(a2)))/8607)\n",
    "x = np.array(a2)/mean\n",
    "print(x,np.sum(np.log(x)))\n",
    "\n",
    "for i in np.arange(12.0001,-12,-0.2):\n",
    "    file_str = '%+.2f' % i\n",
    "    a1,a2,a3 = findfile(file_str)\n",
    "    coeff.append(a1)\n",
    "    expect.append(a2)\n",
    "    predict.append(a3)\n",
    "\n",
    "time_coeff = np.array(coeff)\n",
    "radius = np.arange(12.01,-12,-0.2)\n",
    "plt.plot(radius, time_coeff)\n",
    "plt.xlabel('Radius/m')\n",
    "plt.ylabel('Coefficients')\n",
    "plt.show()\n",
    "def ReadPMT(geo):\n",
    "    f = open(r'../PMT_' + geo + '.txt')\n",
    "    line = f.readline()\n",
    "    data_list = []\n",
    "    while line:\n",
    "        num = list(map(float,line.split()))\n",
    "        data_list.append(num)\n",
    "        line = f.readline()\n",
    "    f.close()\n",
    "    PMT_pos = np.array(data_list)\n",
    "    PMT_pos = PMT_pos[:,1:4]\n",
    "    return PMT_pos\n",
    "\n",
    "PMT_pos = ReadPMT('5kt')\n",
    "z_uni = np.unique(PMT_pos[:,2])\n",
    "vertex = np.array([0,2,10])\n",
    "cos_theta = np.sum(vertex*PMT_pos,axis=1)\\\n",
    "    /np.sqrt(np.sum(vertex**2)*np.sum(PMT_pos**2,axis=1))\n",
    "predict = np.array(predict)\n",
    "\n",
    "predict1 = np.zeros((np.size(radius), np.size(z_uni)))\n",
    "for j,r in enumerate(radius):\n",
    "    for i in np.arange(np.size(z_uni)):\n",
    "        predict1[j,i] = np.mean(np.array(expect)[j,PMT_pos[:,2] == z_uni[i]])"
   ]
  },
  {
   "cell_type": "code",
   "execution_count": 68,
   "metadata": {},
   "outputs": [
    {
     "data": {
      "text/plain": [
       "(121, 81)"
      ]
     },
     "execution_count": 68,
     "metadata": {},
     "output_type": "execute_result"
    }
   ],
   "source": [
    "predict1.shape"
   ]
  },
  {
   "cell_type": "code",
   "execution_count": 24,
   "metadata": {
    "scrolled": false
   },
   "outputs": [
    {
     "data": {
      "text/plain": [
       "[array([2.6495, 2.607 , 2.679 , ..., 0.0165, 0.013 , 0.0125]),\n",
       " array([2.307 , 2.2715, 2.4235, ..., 0.016 , 0.0175, 0.0155]),\n",
       " array([1.9145, 1.9245, 2.041 , ..., 0.029 , 0.0265, 0.0245]),\n",
       " array([1.692 , 1.697 , 1.7545, ..., 0.0315, 0.0235, 0.025 ]),\n",
       " array([1.53  , 1.472 , 1.5775, ..., 0.022 , 0.0175, 0.019 ]),\n",
       " array([1.346 , 1.2915, 1.374 , ..., 0.0145, 0.0175, 0.0165]),\n",
       " array([1.198 , 1.141 , 1.178 , ..., 0.0185, 0.014 , 0.015 ]),\n",
       " array([1.0725, 1.027 , 1.0895, ..., 0.01  , 0.02  , 0.0145]),\n",
       " array([0.9525, 0.927 , 1.0235, ..., 0.0155, 0.018 , 0.017 ]),\n",
       " array([0.8705, 0.84  , 0.89  , ..., 0.015 , 0.0155, 0.0125]),\n",
       " array([0.7625, 0.728 , 0.775 , ..., 0.016 , 0.0175, 0.0155]),\n",
       " array([0.723 , 0.6835, 0.7255, ..., 0.0155, 0.0135, 0.0155]),\n",
       " array([0.6335, 0.617 , 0.674 , ..., 0.017 , 0.0175, 0.011 ]),\n",
       " array([0.595 , 0.5915, 0.597 , ..., 0.016 , 0.021 , 0.0165]),\n",
       " array([0.559 , 0.5555, 0.563 , ..., 0.0205, 0.017 , 0.0195]),\n",
       " array([0.539 , 0.4505, 0.492 , ..., 0.0225, 0.022 , 0.02  ]),\n",
       " array([0.444 , 0.4525, 0.471 , ..., 0.021 , 0.018 , 0.021 ]),\n",
       " array([0.447 , 0.3945, 0.427 , ..., 0.014 , 0.0205, 0.015 ]),\n",
       " array([0.388 , 0.3845, 0.4115, ..., 0.026 , 0.017 , 0.013 ]),\n",
       " array([0.3575, 0.3835, 0.379 , ..., 0.022 , 0.018 , 0.02  ]),\n",
       " array([0.356 , 0.317 , 0.3405, ..., 0.015 , 0.0175, 0.026 ]),\n",
       " array([0.3085, 0.288 , 0.322 , ..., 0.015 , 0.0225, 0.019 ]),\n",
       " array([0.2855, 0.27  , 0.3055, ..., 0.0225, 0.016 , 0.016 ]),\n",
       " array([0.2625, 0.259 , 0.2545, ..., 0.02  , 0.0205, 0.0175]),\n",
       " array([0.2605, 0.268 , 0.2655, ..., 0.0285, 0.02  , 0.023 ]),\n",
       " array([0.2385, 0.234 , 0.241 , ..., 0.0225, 0.026 , 0.0185]),\n",
       " array([0.22  , 0.2275, 0.2525, ..., 0.02  , 0.019 , 0.027 ]),\n",
       " array([0.237 , 0.2375, 0.2135, ..., 0.0255, 0.022 , 0.023 ]),\n",
       " array([0.194 , 0.2005, 0.192 , ..., 0.025 , 0.0245, 0.02  ]),\n",
       " array([0.187 , 0.2045, 0.1985, ..., 0.026 , 0.0235, 0.0205]),\n",
       " array([0.1955, 0.178 , 0.169 , ..., 0.0265, 0.0235, 0.0225]),\n",
       " array([0.1715, 0.1585, 0.1625, ..., 0.0295, 0.021 , 0.0225]),\n",
       " array([0.171 , 0.1585, 0.1715, ..., 0.0305, 0.025 , 0.02  ]),\n",
       " array([0.1595, 0.153 , 0.163 , ..., 0.028 , 0.025 , 0.0215]),\n",
       " array([0.1635, 0.1455, 0.1495, ..., 0.035 , 0.031 , 0.0275]),\n",
       " array([0.143 , 0.134 , 0.1455, ..., 0.04  , 0.032 , 0.03  ]),\n",
       " array([0.14  , 0.121 , 0.1405, ..., 0.031 , 0.0365, 0.0355]),\n",
       " array([0.124 , 0.1385, 0.125 , ..., 0.0235, 0.0255, 0.0265]),\n",
       " array([0.1075, 0.1055, 0.125 , ..., 0.0275, 0.0275, 0.021 ]),\n",
       " array([0.1035, 0.1095, 0.1105, ..., 0.0275, 0.03  , 0.029 ]),\n",
       " array([0.1085, 0.1125, 0.1235, ..., 0.0225, 0.03  , 0.025 ]),\n",
       " array([0.1125, 0.1015, 0.1195, ..., 0.026 , 0.0315, 0.03  ]),\n",
       " array([0.1135, 0.0945, 0.113 , ..., 0.0275, 0.033 , 0.032 ]),\n",
       " array([0.1005, 0.0915, 0.116 , ..., 0.0265, 0.03  , 0.0255]),\n",
       " array([0.0825, 0.092 , 0.0785, ..., 0.0355, 0.03  , 0.0285]),\n",
       " array([0.0825, 0.089 , 0.0995, ..., 0.031 , 0.0375, 0.027 ]),\n",
       " array([0.0825, 0.0855, 0.086 , ..., 0.0375, 0.0305, 0.0325]),\n",
       " array([0.0835, 0.0725, 0.077 , ..., 0.033 , 0.0325, 0.0325]),\n",
       " array([0.083 , 0.0835, 0.0815, ..., 0.033 , 0.0415, 0.03  ]),\n",
       " array([0.0815, 0.075 , 0.0865, ..., 0.0325, 0.0375, 0.029 ]),\n",
       " array([0.0715, 0.077 , 0.0755, ..., 0.0335, 0.027 , 0.035 ]),\n",
       " array([0.0745, 0.055 , 0.06  , ..., 0.037 , 0.029 , 0.033 ]),\n",
       " array([0.074 , 0.0665, 0.08  , ..., 0.033 , 0.0345, 0.038 ]),\n",
       " array([0.0565, 0.0585, 0.058 , ..., 0.0495, 0.0395, 0.0375]),\n",
       " array([0.0605, 0.0575, 0.068 , ..., 0.041 , 0.04  , 0.052 ]),\n",
       " array([0.0585, 0.065 , 0.0605, ..., 0.044 , 0.0455, 0.0365]),\n",
       " array([0.0535, 0.0655, 0.066 , ..., 0.038 , 0.045 , 0.0455]),\n",
       " array([0.0605, 0.0605, 0.0565, ..., 0.0515, 0.041 , 0.0445]),\n",
       " array([0.045 , 0.055 , 0.0715, ..., 0.0435, 0.0415, 0.0485]),\n",
       " array([0.048 , 0.041 , 0.045 , ..., 0.049 , 0.039 , 0.0535]),\n",
       " array([0.045 , 0.0525, 0.0425, ..., 0.049 , 0.0505, 0.0475]),\n",
       " array([0.0555, 0.0545, 0.043 , ..., 0.0535, 0.0495, 0.0415]),\n",
       " array([0.0475, 0.044 , 0.0425, ..., 0.062 , 0.058 , 0.055 ]),\n",
       " array([0.0415, 0.041 , 0.044 , ..., 0.0595, 0.069 , 0.0515]),\n",
       " array([0.046 , 0.038 , 0.0465, ..., 0.064 , 0.0635, 0.055 ]),\n",
       " array([0.0465, 0.0305, 0.0375, ..., 0.059 , 0.061 , 0.061 ]),\n",
       " array([0.046 , 0.035 , 0.0435, ..., 0.0705, 0.064 , 0.074 ]),\n",
       " array([0.0405, 0.038 , 0.044 , ..., 0.064 , 0.0665, 0.0615]),\n",
       " array([0.0355, 0.0405, 0.0395, ..., 0.064 , 0.063 , 0.063 ]),\n",
       " array([0.0405, 0.038 , 0.0325, ..., 0.0765, 0.075 , 0.081 ]),\n",
       " array([0.0355, 0.035 , 0.033 , ..., 0.083 , 0.0745, 0.073 ]),\n",
       " array([0.032 , 0.032 , 0.035 , ..., 0.0745, 0.074 , 0.074 ]),\n",
       " array([0.0385, 0.0395, 0.0415, ..., 0.0795, 0.073 , 0.077 ]),\n",
       " array([0.0325, 0.035 , 0.0415, ..., 0.0725, 0.075 , 0.0665]),\n",
       " array([0.0365, 0.025 , 0.029 , ..., 0.096 , 0.0845, 0.084 ]),\n",
       " array([0.03  , 0.0275, 0.028 , ..., 0.099 , 0.0895, 0.076 ]),\n",
       " array([0.0265, 0.026 , 0.0275, ..., 0.0875, 0.1015, 0.089 ]),\n",
       " array([0.0315, 0.0275, 0.0315, ..., 0.0965, 0.096 , 0.098 ]),\n",
       " array([0.027 , 0.027 , 0.0375, ..., 0.0975, 0.096 , 0.1085]),\n",
       " array([0.0315, 0.03  , 0.0255, ..., 0.114 , 0.1015, 0.0935]),\n",
       " array([0.032 , 0.028 , 0.0335, ..., 0.11  , 0.1125, 0.1065]),\n",
       " array([0.0315, 0.035 , 0.037 , ..., 0.1145, 0.124 , 0.112 ]),\n",
       " array([0.034 , 0.0255, 0.029 , ..., 0.12  , 0.113 , 0.117 ]),\n",
       " array([0.0235, 0.0255, 0.0315, ..., 0.119 , 0.1185, 0.112 ]),\n",
       " array([0.0335, 0.038 , 0.0395, ..., 0.139 , 0.142 , 0.1355]),\n",
       " array([0.0355, 0.0395, 0.038 , ..., 0.1495, 0.1265, 0.127 ]),\n",
       " array([0.0345, 0.0255, 0.03  , ..., 0.1565, 0.138 , 0.1535]),\n",
       " array([0.024 , 0.026 , 0.0305, ..., 0.147 , 0.1655, 0.158 ]),\n",
       " array([0.0255, 0.0215, 0.0305, ..., 0.1645, 0.145 , 0.157 ]),\n",
       " array([0.038 , 0.0235, 0.0185, ..., 0.16  , 0.167 , 0.158 ]),\n",
       " array([0.025 , 0.025 , 0.0295, ..., 0.1855, 0.1925, 0.172 ]),\n",
       " array([0.025 , 0.0275, 0.0225, ..., 0.183 , 0.1915, 0.1795]),\n",
       " array([0.024, 0.023, 0.027, ..., 0.211, 0.198, 0.187]),\n",
       " array([0.024 , 0.0205, 0.021 , ..., 0.2075, 0.221 , 0.2215]),\n",
       " array([0.0195, 0.0215, 0.02  , ..., 0.243 , 0.231 , 0.221 ]),\n",
       " array([0.0195, 0.017 , 0.017 , ..., 0.2425, 0.2535, 0.221 ]),\n",
       " array([0.019 , 0.021 , 0.024 , ..., 0.2755, 0.259 , 0.248 ]),\n",
       " array([0.0245, 0.0185, 0.015 , ..., 0.286 , 0.2685, 0.2645]),\n",
       " array([0.021 , 0.019 , 0.018 , ..., 0.304 , 0.2915, 0.2945]),\n",
       " array([0.02  , 0.02  , 0.0165, ..., 0.305 , 0.3045, 0.3245]),\n",
       " array([0.0215, 0.019 , 0.02  , ..., 0.3235, 0.36  , 0.352 ]),\n",
       " array([0.016 , 0.0195, 0.021 , ..., 0.3785, 0.372 , 0.3775]),\n",
       " array([0.019 , 0.02  , 0.0255, ..., 0.388 , 0.3815, 0.377 ]),\n",
       " array([0.019 , 0.0125, 0.022 , ..., 0.4465, 0.425 , 0.4   ]),\n",
       " array([0.0225, 0.0225, 0.017 , ..., 0.455 , 0.4805, 0.435 ]),\n",
       " array([0.0175, 0.0165, 0.0185, ..., 0.52  , 0.504 , 0.489 ]),\n",
       " array([0.018 , 0.016 , 0.0165, ..., 0.5745, 0.5635, 0.4975]),\n",
       " array([0.0185, 0.028 , 0.016 , ..., 0.6275, 0.6085, 0.575 ]),\n",
       " array([0.0145, 0.0135, 0.0185, ..., 0.664 , 0.632 , 0.648 ]),\n",
       " array([0.0165, 0.0115, 0.012 , ..., 0.7305, 0.7365, 0.698 ]),\n",
       " array([0.019 , 0.0165, 0.0125, ..., 0.779 , 0.8145, 0.7575]),\n",
       " array([0.0225, 0.015 , 0.017 , ..., 0.8485, 0.868 , 0.8325]),\n",
       " array([0.0205, 0.0175, 0.0155, ..., 0.9745, 0.966 , 0.955 ]),\n",
       " array([0.0105, 0.0205, 0.017 , ..., 1.143 , 1.07  , 1.06  ]),\n",
       " array([0.0205, 0.0165, 0.0145, ..., 1.231 , 1.1785, 1.187 ]),\n",
       " array([0.02  , 0.019 , 0.021 , ..., 1.3865, 1.316 , 1.356 ]),\n",
       " array([0.0295, 0.018 , 0.018 , ..., 1.5675, 1.523 , 1.5285]),\n",
       " array([0.029 , 0.0305, 0.028 , ..., 1.752 , 1.7405, 1.7035]),\n",
       " array([0.0285, 0.027 , 0.0225, ..., 1.998 , 1.9755, 1.9165]),\n",
       " array([0.0175, 0.0185, 0.0195, ..., 2.413 , 2.277 , 2.218 ]),\n",
       " array([0.0125, 0.016 , 0.0115, ..., 2.734 , 2.6755, 2.6105])]"
      ]
     },
     "execution_count": 24,
     "metadata": {},
     "output_type": "execute_result"
    }
   ],
   "source": [
    "expect"
   ]
  },
  {
   "cell_type": "code",
   "execution_count": 80,
   "metadata": {},
   "outputs": [
    {
     "data": {
      "image/png": "[encoded data removed]",
      "text/plain": [
       "<Figure size 432x288 with 2 Axes>"
      ]
     },
     "metadata": {
      "needs_background": "light"
     },
     "output_type": "display_data"
    },
    {
     "data": {
      "text/plain": [
       "<Figure size 432x288 with 0 Axes>"
      ]
     },
     "metadata": {},
     "output_type": "display_data"
    }
   ],
   "source": [
    "dis = np.log(np.log(squareform(pdist(np.array(predict1),'cosine'))+1)+1)\n",
    "radius = np.arange(-12,0,0.2)\n",
    "plt.contourf(radius,radius, dis[0:60,0:60],np.arange(0,0.11,0.01))\n",
    "plt.xlabel('radius/m')\n",
    "plt.ylabel('radius/m')\n",
    "plt.colorbar()\n",
    "plt.show()\n",
    "plt.savefig('dist.png')"
   ]
  },
  {
   "cell_type": "code",
   "execution_count": 29,
   "metadata": {},
   "outputs": [
    {
     "data": {
      "text/plain": [
       "(121, 8607)"
      ]
     },
     "execution_count": 29,
     "metadata": {},
     "output_type": "execute_result"
    }
   ],
   "source": [
    "np.array(expect).shape"
   ]
  },
  {
   "cell_type": "code",
   "execution_count": 30,
   "metadata": {},
   "outputs": [
    {
     "data": {
      "text/plain": [
       "120.0"
      ]
     },
     "execution_count": 30,
     "metadata": {},
     "output_type": "execute_result"
    }
   ],
   "source": [
    "12/0.2*2"
   ]
  },
  {
   "cell_type": "code",
   "execution_count": null,
   "metadata": {},
   "outputs": [],
   "source": []
  }
 ],
 "metadata": {
  "kernelspec": {
   "display_name": "Python 3",
   "language": "python",
   "name": "python3"
  },
  "language_info": {
   "codemirror_mode": {
    "name": "ipython",
    "version": 3
   },
   "file_extension": ".py",
   "mimetype": "text/x-python",
   "name": "python",
   "nbconvert_exporter": "python",
   "pygments_lexer": "ipython3",
   "version": "3.6.10"
  }
 },
 "nbformat": 4,
 "nbformat_minor": 2
}
