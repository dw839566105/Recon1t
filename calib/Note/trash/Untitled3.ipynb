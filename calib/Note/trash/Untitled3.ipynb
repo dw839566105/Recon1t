{
 "cells": [
  {
   "cell_type": "code",
   "execution_count": 3,
   "metadata": {},
   "outputs": [],
   "source": [
    "import numpy as np \n",
    "import scipy, h5py\n",
    "import tables\n",
    "import sys\n",
    "from scipy.optimize import minimize\n",
    "from numpy.polynomial import legendre as LG\n",
    "import matplotlib.pyplot as plt\n",
    "import os"
   ]
  },
  {
   "cell_type": "code",
   "execution_count": 148,
   "metadata": {},
   "outputs": [],
   "source": [
    "import os\n",
    "import tables\n",
    "def findfile(radius):\n",
    "    filename = '../coeff_time_1t_10000_5/file_' + radius + '.h5'\n",
    "    #print(filename)\n",
    "    h = tables.open_file(filename,'r')\n",
    "    coeff = np.array(h.root.coeff)[:]\n",
    "    ft = np.array(h.root.ft)[:]\n",
    "    ch = np.array(h.root.ch)[:]\n",
    "    predict = np.array(h.root.predict)[:]\n",
    "    h.close()\n",
    "    return coeff, ft, ch, predict\n",
    "\n",
    "coeff = [];\n",
    "ft = [];\n",
    "ch = [];\n",
    "predict = [];\n",
    "radius = np.arange(0.4001,0.40,-0.01)\n",
    "for i in radius:\n",
    "    file_str = '%+.2f' % i\n",
    "    a1,a2,a3,a4 = findfile(file_str)\n",
    "    a1 = findfile(file_str)\n",
    "    coeff.append(a1)\n",
    "    ft.append(a2)\n",
    "    ch.append(a3)\n",
    "    predict.append(a4)\n",
    "time_coeff = np.array(coeff)"
   ]
  },
  {
   "cell_type": "code",
   "execution_count": 149,
   "metadata": {
    "scrolled": false
   },
   "outputs": [
    {
     "data": {
      "image/png": "[encoded data removed]",
      "text/plain": [
       "<Figure size 432x288 with 1 Axes>"
      ]
     },
     "metadata": {
      "needs_background": "light"
     },
     "output_type": "display_data"
    },
    {
     "data": {
      "image/png": "[encoded data removed]",
      "text/plain": [
       "<Figure size 432x288 with 1 Axes>"
      ]
     },
     "metadata": {
      "needs_background": "light"
     },
     "output_type": "display_data"
    },
    {
     "data": {
      "image/png": "[encoded data removed]",
      "text/plain": [
       "<Figure size 432x288 with 1 Axes>"
      ]
     },
     "metadata": {
      "needs_background": "light"
     },
     "output_type": "display_data"
    }
   ],
   "source": [
    "for N in range(1,30,10):\n",
    "    plt.hist(np.array(ft)[0,np.array(ch)[0]==N],bins=100)\n",
    "    plt.vlines(np.array(predict)[0,0,N],0,3e3)\n",
    "    plt.show()"
   ]
  },
  {
   "cell_type": "code",
   "execution_count": 127,
   "metadata": {},
   "outputs": [
    {
     "name": "stdout",
     "output_type": "stream",
     "text": [
      "21.585687826962808 21.57180101961681\n",
      "22.028126534602883 21.982967693748165\n",
      "22.750435499833383 22.67923630021891\n",
      "23.526037256024217 23.509248602834795\n",
      "24.057031351175038 24.05670985211236\n",
      "24.17190322783803 24.18959192898572\n",
      "24.475608651914236 24.458010064363435\n",
      "25.71290559309128 25.72791802216214\n",
      "21.293825005158503 21.293674046271263\n",
      "23.12001801664171 23.130209375258385\n",
      "22.990486816146102 22.925946828770716\n",
      "23.501762839229063 23.509248602834795\n",
      "23.952632575895812 23.948949494713712\n",
      "24.440169671806665 24.458010064363435\n",
      "25.07699830912248 25.188339929722186\n",
      "25.75164007366806 25.72791802216214\n",
      "21.558332283010692 21.57180101961681\n",
      "22.878555655811116 22.925946828770716\n",
      "23.147782808884074 23.130209375258385\n",
      "23.38776567972153 23.327764375023992\n",
      "23.953450003617135 23.948949494713712\n",
      "24.431707933854895 24.50348631341929\n",
      "25.023637879546406 25.0170965747841\n",
      "25.309038426939928 25.188339929722186\n",
      "21.93439485287452 21.982967693748165\n",
      "22.609058675880455 22.67923630021891\n",
      "23.298085587092977 23.327764375023992\n",
      "24.209113411810193 24.18959192898572\n",
      "24.059583016439017 24.05670985211236\n",
      "24.582666698552163 24.503486313419284\n"
     ]
    }
   ],
   "source": [
    "def Calib(theta, *args):\n",
    "    flight_time = args\n",
    "    y = flight_time\n",
    "    #print(y)\n",
    "    #print(theta)\n",
    "    L = np.sum(Likelihood_quantile(y[0], theta, 0.01, 0.3))\n",
    "    \n",
    "    return L\n",
    "\n",
    "def Likelihood_quantile(y, T_i, tau, ts):\n",
    "    less = T_i - y[y<T_i]\n",
    "    more = y[y>=T_i] - T_i\n",
    "    R = (1-tau)*np.sum(less) + tau*np.sum(more)\n",
    "    return R\n",
    "\n",
    "record = []\n",
    "for N in range(30):\n",
    "    '''\n",
    "    plt.hist(np.array(ft)[0,np.array(ch)[0]==N],bins=100)\n",
    "    plt.vlines(np.array(predict)[0,0,N],0,3e3)\n",
    "    plt.show()\n",
    "    '''\n",
    "    theta0 = 0 # initial value\n",
    "    data = (np.array(ft)[0,np.array(ch)[0]==N])\n",
    "    result = np.quantile(data, 0.01)  \n",
    "    record.append(result)\n",
    "    print(record[N], np.array(predict)[0,0,N])"
   ]
  },
  {
   "cell_type": "code",
   "execution_count": 128,
   "metadata": {},
   "outputs": [
    {
     "data": {
      "text/plain": [
       "(array([1., 2., 0., 0., 2., 0., 0., 0., 0., 2., 0., 2., 2., 2., 2., 0., 0.,\n",
       "        2., 2., 2., 0., 4., 0., 0., 0., 1., 2., 0., 0., 2.]),\n",
       " array([21.29367405, 21.44148218, 21.58929031, 21.73709844, 21.88490658,\n",
       "        22.03271471, 22.18052284, 22.32833097, 22.47613911, 22.62394724,\n",
       "        22.77175537, 22.9195635 , 23.06737164, 23.21517977, 23.3629879 ,\n",
       "        23.51079603, 23.65860417, 23.8064123 , 23.95422043, 24.10202856,\n",
       "        24.2498367 , 24.39764483, 24.54545296, 24.69326109, 24.84106923,\n",
       "        24.98887736, 25.13668549, 25.28449362, 25.43230176, 25.58010989,\n",
       "        25.72791802]),\n",
       " <a list of 30 Patch objects>)"
      ]
     },
     "execution_count": 128,
     "metadata": {},
     "output_type": "execute_result"
    },
    {
     "data": {
      "image/png": "[encoded data removed]",
      "text/plain": [
       "<Figure size 432x288 with 1 Axes>"
      ]
     },
     "metadata": {
      "needs_background": "light"
     },
     "output_type": "display_data"
    }
   ],
   "source": [
    "plt.hist(record,bins=30)\n",
    "plt.hist(predict[0][0],bins=30)"
   ]
  },
  {
   "cell_type": "code",
   "execution_count": 123,
   "metadata": {
    "scrolled": false
   },
   "outputs": [
    {
     "data": {
      "text/plain": [
       "21.829320311611895"
      ]
     },
     "execution_count": 123,
     "metadata": {},
     "output_type": "execute_result"
    }
   ],
   "source": [
    "predict[0][0][0]"
   ]
  },
  {
   "cell_type": "code",
   "execution_count": 143,
   "metadata": {},
   "outputs": [
    {
     "name": "stdout",
     "output_type": "stream",
     "text": [
      "/mnt/stage/douwei/Simulation/1t_root/1MeV_10000_h5/1t_+0.40.h5\n",
      "[23.61737417 -2.19387732 -0.14880774 -0.28116261  0.06616573]\n"
     ]
    }
   ],
   "source": [
    "import numpy as np \n",
    "import scipy, h5py\n",
    "import tables\n",
    "import sys\n",
    "from scipy.optimize import minimize\n",
    "from numpy.polynomial import legendre as LG\n",
    "import matplotlib.pyplot as plt\n",
    "import os\n",
    "\n",
    "def Calib(theta, *args):\n",
    "    ChannelID, flight_time, PMT_pos, cut = args\n",
    "    y = flight_time\n",
    "    x = Legendre_coeff(PMT_pos)\n",
    "    Legend_coeff = x[ChannelID,:]\n",
    "    T_i = np.dot(Legend_coeff, theta)\n",
    "    L = Likelihood_quantile(y, T_i, 0.01, 0.3)\n",
    "\n",
    "    return L\n",
    "\n",
    "def Likelihood_quantile(y, T_i, tau, ts):\n",
    "    less = T_i[y<T_i] - y[y<T_i]\n",
    "    more = y[y>=T_i] - T_i[y>=T_i]\n",
    "    \n",
    "    R = (1-tau)*np.sum(less) + tau*np.sum(more)\n",
    "    #log_Likelihood = exp\n",
    "    return R\n",
    "\n",
    "def Legendre_coeff(PMT_pos):\n",
    "    vertex = np.array([0,0,2,10])\n",
    "    cos_theta = np.sum(vertex[1:4]*PMT_pos,axis=1) \\\n",
    "        /np.sqrt(np.sum(vertex[1:4]**2)*np.sum(PMT_pos**2,axis=1))\n",
    "    # accurancy and nan value\n",
    "    cos_theta = np.nan_to_num(cos_theta)\n",
    "    cos_theta[cos_theta>1] = 1\n",
    "    cos_theta[cos_theta<-1] =-1\n",
    "    size = np.size(PMT_pos[:,0])\n",
    "    x = np.zeros((size, cut))\n",
    "    # legendre coeff\n",
    "    for i in np.arange(0,cut):\n",
    "        c = np.zeros(cut)\n",
    "        c[i] = 1\n",
    "        x[:,i] = LG.legval(cos_theta,c)\n",
    "    return x  \n",
    "\n",
    "def main_Calib(radius):\n",
    "    filename = '/mnt/stage/douwei/Simulation/1t_root/1MeV_10000_h5/1t_' + radius + '.h5'\n",
    "\n",
    "    # read files by table\n",
    "    h1 = tables.open_file(filename,'r')\n",
    "    print(filename)\n",
    "    truthtable = h1.root.GroundTruth\n",
    "    EventID = truthtable[:]['EventID']\n",
    "    ChannelID = truthtable[:]['ChannelID']\n",
    "    PETime = truthtable[:]['PETime']\n",
    "    photonTime = truthtable[:]['photonTime']\n",
    "    PulseTime = truthtable[:]['PulseTime']\n",
    "    dETime = truthtable[:]['dETime']\n",
    "    h1.close()\n",
    "    \n",
    "    # read file series\n",
    "    \n",
    "    try:\n",
    "        for j in np.arange(1,10,1):\n",
    "            filename = Energy + '/calib' + radius + '_' + str(j)+ '.h5'           \n",
    "            h1 = tables.open_file(filename,'r')\n",
    "            print(filename)\n",
    "            truthtable = h1.root.GroundTruth\n",
    "\n",
    "            EventID_tmp = truthtable[:]['EventID']\n",
    "            ChannelID_tmp = truthtable[:]['ChannelID']\n",
    "            PETime_tmp = truthtable[:]['PETime']\n",
    "            photonTime_tmp = truthtable[:]['photonTime']\n",
    "            PulseTime_tmp = truthtable[:]['PulseTime']\n",
    "            dETime_tmp = truthtable[:]['dETime']\n",
    "            \n",
    "            EventID = np.hstack((EventID, EventID_tmp))\n",
    "            ChannelID = np.hstack((ChannelID, ChannelID_tmp))\n",
    "            PETime = np.hstack((PETime, PETime_tmp))\n",
    "            photonTime = np.hstack((photonTime, photonTime_tmp))\n",
    "            PulseTime = np.hstack((PulseTime, PulseTime_tmp))\n",
    "            dETime = np.hstack((dETime, dETime_tmp))\n",
    "            \n",
    "            h1.close()\n",
    "    except:\n",
    "        j = j - 1\n",
    "    \n",
    "    total_pe = np.zeros((np.size(PMT_pos[:,0]),max(EventID)))\n",
    "    \n",
    "    flight_time = PulseTime - dETime\n",
    "    ChannelID = ChannelID[~(flight_time==0)]\n",
    "    flight_time = flight_time[~(flight_time==0)]\n",
    "    theta0 = np.zeros(cut) # initial value\n",
    "    theta0[0] = np.mean(flight_time) - 26\n",
    "    result = minimize(Calib,theta0, method='SLSQP',args = (ChannelID, flight_time, PMT_pos, cut))  \n",
    "    record = np.array(result.x, dtype=float)\n",
    "    print(result.x)\n",
    "    \n",
    "    ft = np.zeros(30)\n",
    "    for ch in np.arange(30):\n",
    "        ft[ch] = np.quantile(flight_time[ChannelID==ch],0.01)\n",
    "\n",
    "    x = Legendre_coeff(PMT_pos)\n",
    "    predict = [];\n",
    "    predict.append(np.dot(x, result.x))\n",
    "    return predict, ft\n",
    "\n",
    "f = open(r'../PMT_1t.txt')\n",
    "line = f.readline()\n",
    "data_list = []\n",
    "while line:\n",
    "    num = list(map(float,line.split()))\n",
    "    data_list.append(num)\n",
    "    line = f.readline()\n",
    "    \n",
    "f.close()\n",
    "PMT_pos = np.array(data_list)\n",
    "\n",
    "cut = 5 # Legend order\n",
    "predict, ft = main_Calib('+0.40')\n"
   ]
  },
  {
   "cell_type": "code",
   "execution_count": 144,
   "metadata": {},
   "outputs": [
    {
     "data": {
      "text/plain": [
       "-0.005682895566028634"
      ]
     },
     "execution_count": 144,
     "metadata": {},
     "output_type": "execute_result"
    }
   ],
   "source": [
    "np.sum(predict[0]-ft)"
   ]
  },
  {
   "cell_type": "code",
   "execution_count": 145,
   "metadata": {},
   "outputs": [
    {
     "data": {
      "text/plain": [
       "array([21.58568783, 22.02812653, 22.7504355 , 23.52603726, 24.05703135,\n",
       "       24.17190323, 24.47560865, 25.71290559, 21.29382501, 23.12001802,\n",
       "       22.99048682, 23.50176284, 23.95263258, 24.44016967, 25.07699831,\n",
       "       25.75164007, 21.55833228, 22.87855566, 23.14778281, 23.38776568,\n",
       "       23.95345   , 24.43170793, 25.02363788, 25.30903843, 21.93439485,\n",
       "       22.60905868, 23.29808559, 24.20911341, 24.05958302, 24.5826667 ])"
      ]
     },
     "execution_count": 145,
     "metadata": {},
     "output_type": "execute_result"
    }
   ],
   "source": [
    "ft"
   ]
  },
  {
   "cell_type": "code",
   "execution_count": 146,
   "metadata": {},
   "outputs": [
    {
     "data": {
      "text/plain": [
       "array([21.56338901, 21.95241636, 22.72795666, 23.51391523, 24.02234484,\n",
       "       24.20743231, 24.39999297, 25.66882094, 21.31014473, 23.15131927,\n",
       "       22.89799795, 23.51391523, 23.90782033, 24.39999297, 25.28780657,\n",
       "       25.66882094, 21.56338901, 22.89799795, 23.15131927, 23.38135795,\n",
       "       23.90782033, 24.52706567, 25.08334244, 25.28780657, 21.95241636,\n",
       "       22.72795666, 23.38135795, 24.20743231, 24.02234484, 24.52706567])"
      ]
     },
     "execution_count": 146,
     "metadata": {},
     "output_type": "execute_result"
    }
   ],
   "source": [
    "predict[0]"
   ]
  },
  {
   "cell_type": "code",
   "execution_count": null,
   "metadata": {},
   "outputs": [],
   "source": []
  }
 ],
 "metadata": {
  "kernelspec": {
   "display_name": "Python 3",
   "language": "python",
   "name": "python3"
  },
  "language_info": {
   "codemirror_mode": {
    "name": "ipython",
    "version": 3
   },
   "file_extension": ".py",
   "mimetype": "text/x-python",
   "name": "python",
   "nbconvert_exporter": "python",
   "pygments_lexer": "ipython3",
   "version": "3.6.10"
  }
 },
 "nbformat": 4,
 "nbformat_minor": 2
}
