{
 "cells": [
  {
   "cell_type": "code",
   "execution_count": 1,
   "metadata": {},
   "outputs": [
    {
     "name": "stderr",
     "output_type": "stream",
     "text": [
      "/home/orv/gentoo/usr/lib64/python3.6/site-packages/h5py/__init__.py:36: FutureWarning: Conversion of the second argument of issubdtype from `float` to `np.floating` is deprecated. In future, it will be treated as `np.float64 == np.dtype(float).type`.\n",
      "  from ._conv import register_converters as _register_converters\n"
     ]
    },
    {
     "name": "stdout",
     "output_type": "stream",
     "text": [
      "Welcome to JupyROOT 6.18/02\n"
     ]
    }
   ],
   "source": [
    "import numpy as np\n",
    "import scipy, h5py\n",
    "import scipy.stats as stats\n",
    "import math\n",
    "import ROOT\n",
    "import os,sys\n",
    "import tables\n",
    "import uproot, argparse\n",
    "import scipy.io as scio\n",
    "from scipy.optimize import minimize\n",
    "from scipy import special"
   ]
  },
  {
   "cell_type": "code",
   "execution_count": 2,
   "metadata": {},
   "outputs": [],
   "source": [
    "# physical constant\n",
    "Light_yield = 4285*0.88 # light yield\n",
    "Att_LS = 18 # attenuation length of LS\n",
    "Att_Wtr = 300 # attenuation length of water\n",
    "tau_r = 1.6 # fast time constant\n",
    "TTS = 5.5/2.355\n",
    "QE = 0.20\n",
    "PMT_radius = 0.254\n",
    "c = 2.99792e8\n",
    "n = 1.48\n",
    "shell = 0.65 # Acrylic"
   ]
  },
  {
   "cell_type": "code",
   "execution_count": 12,
   "metadata": {},
   "outputs": [],
   "source": [
    "def Likelihood(fit, *args):\n",
    "    Energy,\\\n",
    "    x,\\\n",
    "    y,\\\n",
    "    z,\\\n",
    "    t,\\\n",
    "    tau_d\\\n",
    "    = fit\n",
    "    PMT_pos, pe_array, time_array, fired_PMT= args\n",
    "    distance, Omega = SolidAngle(x,y,z)\n",
    "    lmbd = Att(x,y,z)\n",
    "    # expect photons\n",
    "    expect = Energy*\\\n",
    "        Light_yield*\\\n",
    "        np.exp(-distance*lmbd/Att_LS - distance*(1-lmbd)/Att_Wtr)*\\\n",
    "        Omega*\\\n",
    "        QE\n",
    "    # log Poisson # p_pe = - np.log(stats.poisson.pmf(PE, expect))\n",
    "    log_p_pe = - expect + pe_array*np.log(expect) \n",
    "    # this part is nonsense {- np.log(special.factorial(pe_array))}\n",
    "    Likelihood_pe = - np.nansum(log_p_pe)\n",
    "    # log Time profile pdf\n",
    "    # log_p_time = TimeProfile(time_array, distance[fired_PMT], tau_d, t)\n",
    "    # Likelihood_time = - np.nansum(log_p_time)\n",
    "    # total likelihood\n",
    "    Likelihood_total = Likelihood_pe\n",
    "    #Likelihood_total = Likelihood_pe + Likelihood_time\n",
    "    return Likelihood_total"
   ]
  },
  {
   "cell_type": "code",
   "execution_count": 4,
   "metadata": {},
   "outputs": [],
   "source": [
    "def SolidAngle(x, y, z):\n",
    "    distance = np.sqrt(np.sum((PMT_pos - np.array((x,y,z)))**2, axis=1))\n",
    "    radius_O1 = PMT_radius # PMT bottom surface\n",
    "    PMT_vector = - PMT_pos/np.transpose(np.tile(np.sqrt(np.sum(PMT_pos**2,1)),[3,1]))\n",
    "    O1 = np.tile(np.array([x,y,z]),[len(PMT_pos[:,0]),1])\n",
    "    O2 = PMT_pos\n",
    "    flight_vector = O2 - O1\n",
    "    d2 = np.sqrt(np.sum(flight_vector**2,1))\n",
    "    theta1 = np.sum(PMT_vector*flight_vector,1)/np.sqrt(np.sum(PMT_vector**2,1)*np.sum(flight_vector**2,1))\n",
    "    Omega = (1-d2/np.sqrt(d2**2+radius_O1*np.abs(theta1)))/2\n",
    "    \n",
    "    return distance, Omega"
   ]
  },
  {
   "cell_type": "code",
   "execution_count": 5,
   "metadata": {},
   "outputs": [],
   "source": [
    "def Att(x, y, z):\n",
    "    '''\n",
    "    this function returns ratio in different material \n",
    "    lmbd is in the LS and 1-lmbda is the water\n",
    "    '''\n",
    "    # LS distance\n",
    "    d1 = np.tile(np.array([x,y,z]),[len(PMT_pos[:,1]),1])\n",
    "    d2 = PMT_pos\n",
    "    d3 = d2 - d1\n",
    "    # cons beyond shell \n",
    "    lmbd = (-2*np.sum(d3*d1,1) \\\n",
    "        + np.sqrt(4*np.sum(d3*d1,1)**2 \\\n",
    "        - 4*np.sum(d3**2,1)*(-np.abs((np.sum(d1**2,1)-shell**2))))) \\\n",
    "        /(2*np.sum(d3**2,1))\n",
    "    lmbd[lmbd>=1] = 1\n",
    "    return lmbd"
   ]
  },
  {
   "cell_type": "code",
   "execution_count": 6,
   "metadata": {},
   "outputs": [],
   "source": [
    "def TimeProfile(time_array, distance, tau_d, t):\n",
    "    time_correct = time_array - distance/(c/n)*1e9 - t\n",
    "    time_correct[time_correct<=-8] = -8\n",
    "    p_time = TimeUncertainty(time_correct, tau_d)\n",
    "    return p_time"
   ]
  },
  {
   "cell_type": "code",
   "execution_count": 7,
   "metadata": {},
   "outputs": [],
   "source": [
    "def TimeUncertainty(tc, tau_d):\n",
    "    a1 = np.exp(((TTS**2 - tc*tau_d)**2-tc**2*tau_d**2)/(2*TTS**2*tau_d**2))\n",
    "    a2 = np.exp(((TTS**2*(tau_d+tau_r) - tc*tau_d*tau_r)**2 - tc**2*tau_d**2*tau_r**2)/(2*TTS**2*tau_d**2*tau_r**2))\n",
    "    a3 = np.exp(((TTS**2 - tc*tau_d)**2 - tc**2*tau_d**2)/(2*TTS**2*tau_d**2))*special.erf((tc*tau_d-TTS**2)/(np.sqrt(2)*tau_d*TTS))\n",
    "    a4 = np.exp(((TTS**2*(tau_d+tau_r) - tc*tau_d*tau_r)**2 - tc**2*tau_d**2*tau_r**2)/(2*TTS**2*tau_d**2*tau_r**2))*special.erf((tc*tau_d*tau_r-TTS**2*(tau_d+tau_r))/(np.sqrt(2)*tau_d*tau_r*TTS))\n",
    "    p_time  = np.log(tau_d + tau_r) - 2*np.log(tau_d) + np.log(a1-a2+a3-a4)\n",
    "    \n",
    "    return p_time"
   ]
  },
  {
   "cell_type": "code",
   "execution_count": 8,
   "metadata": {},
   "outputs": [],
   "source": [
    "def con(args):\n",
    "    E_min,\\\n",
    "    E_max,\\\n",
    "    tau_min,\\\n",
    "    tau_max,\\\n",
    "    t0_min,\\\n",
    "    t0_max\\\n",
    "    = args\n",
    "    cons = ({'type': 'ineq', 'fun': lambda x: (x[0] - E_min)*(E_max - x[0])},\\\n",
    "    {'type': 'ineq', 'fun': lambda x: shell**2 - (x[1]**2 + x[2]**2 + x[3]**2)},\\\n",
    "    {'type': 'ineq', 'fun': lambda x: (x[5] - tau_min)*(tau_max-x[5])},\\\n",
    "    {'type': 'ineq', 'fun': lambda x: (x[4] - t0_min)*(t0_max-x[4])})\n",
    "    return cons"
   ]
  },
  {
   "cell_type": "code",
   "execution_count": 9,
   "metadata": {},
   "outputs": [],
   "source": [
    "def recon_drc(time_array, fired_PMT, recon_vertex):\n",
    "    time_corr = time_array - np.sum(PMT_pos[fired_PMT,1:4]-np.tile(recon_vertex[0,1:4],[len(fired_PMT),1]))/(3*10**8)\n",
    "    index = np.argsort(time_corr)\n",
    "    fired_PMT_sorted = fired_PMT[index]\n",
    "    fired_PMT_sorted = fired_PMT_sorted[0:int(np.floor(len(fired_PMT_sorted)/10))]\n",
    "    drc = np.sum(PMT_pos[fired_PMT_sorted,1:4],0)/len(fired_PMT_sorted)\n",
    "    return drc"
   ]
  },
  {
   "cell_type": "code",
   "execution_count": 10,
   "metadata": {},
   "outputs": [],
   "source": [
    "def ReadPMT():\n",
    "    f = open(r\"./PMT1t.txt\")\n",
    "    line = f.readline()\n",
    "    data_list = [] \n",
    "    while line:\n",
    "        num = list(map(float,line.split()))\n",
    "        data_list.append(num)\n",
    "        line = f.readline()\n",
    "    f.close()\n",
    "    PMT_pos = np.array(data_list)\n",
    "    return PMT_pos"
   ]
  },
  {
   "cell_type": "code",
   "execution_count": 13,
   "metadata": {},
   "outputs": [],
   "source": [
    "def recon(fid, fout, *args):\n",
    "    PMT_pos, event_count,shut = args\n",
    "    # global event_count,shell,PE,time_array,PMT_pos, fired_PMT\n",
    "    '''\n",
    "    reconstruction\n",
    "\n",
    "    fid: root reference file\n",
    "    fout: output file\n",
    "    '''\n",
    "    # Create the output file and the group\n",
    "    rootfile = ROOT.TFile(fid)\n",
    "    print(fid) # filename\n",
    "    class ReconData(tables.IsDescription):\n",
    "        EventID = tables.Int64Col(pos=0)    # EventNo\n",
    "        x1 = tables.Float16Col(pos=1)        # x position\n",
    "        y1 = tables.Float16Col(pos=2)        # y position\n",
    "        z1 = tables.Float16Col(pos=3)        # z position\n",
    "        x2 = tables.Float16Col(pos=4)        # x position\n",
    "        y2 = tables.Float16Col(pos=5)        # y position\n",
    "        z2 = tables.Float16Col(pos=6)        # z position\n",
    "        x3 = tables.Float16Col(pos=7)        # x position\n",
    "        y3 = tables.Float16Col(pos=8)        # y position\n",
    "        z3 = tables.Float16Col(pos=9)        # z position\n",
    "        x4 = tables.Float16Col(pos=10)        # x position\n",
    "        y4 = tables.Float16Col(pos=11)        # y position\n",
    "        z4 = tables.Float16Col(pos=12)        # z position\n",
    "    # Create the output file and the group\n",
    "    h5file = tables.open_file(fout, mode=\"w\", title=\"OneTonDetector\",\n",
    "                            filters = tables.Filters(complevel=9))\n",
    "    group = \"/\"\n",
    "    # Create tables\n",
    "    ReconTable = h5file.create_table(group, \"Recon\", ReconData, \"Recon\")\n",
    "    recondata = ReconTable.row\n",
    "    # Loop for event\n",
    "    f = uproot.open(fid)\n",
    "    a = f['SimpleAnalysis']\n",
    "    for tot, chl, PEl, Pkl, nPl in zip(a.array(\"TotalPE\"),  # total pe in an event\n",
    "                    a.array(\"ChannelInfo.ChannelId\"),       # PMT fired seq\n",
    "                    a.array('ChannelInfo.PE'),              # Hit info number on PMT\n",
    "                    a.array('ChannelInfo.PeakLoc'),         # Time info on PMT\n",
    "                    a.array('ChannelInfo.nPeaks')):         # \n",
    "        pe_array = np.zeros(np.size(PMT_pos[:,1])) # Photons on each PMT (PMT size * 1 vector)\n",
    "        fired_PMT = np.zeros(0)     # Hit PMT (PMT Seq can be repeated)\n",
    "        time_array = np.zeros(0, dtype=int)    # Time info (Hit number)\n",
    "        for ch, pe, pk, npk in zip(chl, PEl, Pkl, nPl):\n",
    "            pe_array[ch] = pe\n",
    "            time_array = np.hstack((time_array, pk))\n",
    "            fired_PMT = np.hstack((fired_PMT, ch*np.ones(np.size(pk))))\n",
    "        fired_PMT = fired_PMT.astype(int)\n",
    "        # initial result\n",
    "        result_vertex = np.empty((0,6)) # reconstructed vertex\n",
    "        # initial value x[0] = [1,6]\n",
    "        x0 = np.zeros((1,4))\n",
    "        x0[0][0] = pe_array.sum()/300\n",
    "        x0[0][1] = np.sum(pe_array*PMT_pos[:,0])/np.sum(pe_array)\n",
    "        x0[0][2] = np.sum(pe_array*PMT_pos[:,1])/np.sum(pe_array)\n",
    "        x0[0][3] = np.sum(pe_array*PMT_pos[:,2])/np.sum(pe_array)\n",
    "        # cut 1 PMT\n",
    "        x1 = np.zeros((1,6))\n",
    "        pe_array_tmp = pe_array\n",
    "        pe_array_tmp[shut] = 0\n",
    "        x1[0][0] = pe_array.sum()/300\n",
    "        x1[0][1] = np.sum(pe_array*PMT_pos[:,0])/np.sum(pe_array)\n",
    "        x1[0][2] = np.sum(pe_array*PMT_pos[:,1])/np.sum(pe_array)\n",
    "        x1[0][3] = np.sum(pe_array*PMT_pos[:,2])/np.sum(pe_array)\n",
    "        # Constraints\n",
    "        E_min = 0.01\n",
    "        E_max = 100\n",
    "        tau_min = 0.01\n",
    "        tau_max = 100\n",
    "        t0_min = -300\n",
    "        t0_max = 300\n",
    "        con_args = E_min, E_max, tau_min, tau_max, t0_min, t0_max\n",
    "        cons = con(con_args)\n",
    "        # reconstruction\n",
    "        result1 = minimize(Likelihood, x0, method='SLSQP', constraints=cons, \\\n",
    "        args = (PMT_pos, pe_array, time_array, fired_PMT))\n",
    "        result2 = minimize(Likelihood, x0, method='SLSQP', constraints=cons, \\\n",
    "        args = (PMT_pos, pe_array_tmp, time_array, fired_PMT))\n",
    "        # result\n",
    "        print(event_count, result.x, result.success)\n",
    "        event_count = event_count + 1\n",
    "        recondata['EventID'] = event_count\n",
    "        recondata['x1'] = result.x1[1]\n",
    "        recondata['y1'] = result.x1[2]\n",
    "        recondata['z1'] = result.x1[3]\n",
    "        recondata['x2'] = result.x2[1]\n",
    "        recondata['y2'] = result.x2[2]\n",
    "        recondata['z2'] = result.x2[3]\n",
    "        recondata['x3'] = x0[0][1]\n",
    "        recondata['y3'] = x0[0][2]\n",
    "        recondata['z3'] = x0[0][3]\n",
    "        recondata['x4'] = x1[0][1]\n",
    "        recondata['y4'] = x1[0][2]\n",
    "        recondata['z4'] = x1[0][3]\n",
    "        recondata.append()\n",
    "    # Flush into the output file\n",
    "    ReconTable.flush()\n",
    "    h5file.close()"
   ]
  },
  {
   "cell_type": "code",
   "execution_count": 15,
   "metadata": {},
   "outputs": [
    {
     "name": "stdout",
     "output_type": "stream",
     "text": [
      "Wront arguments!\n",
      "Usage: python Recon.py MCFileName[.root] outputFileName[.h5] shut\n"
     ]
    },
    {
     "ename": "SystemExit",
     "evalue": "1",
     "output_type": "error",
     "traceback": [
      "An exception has occurred, use %tb to see the full traceback.\n",
      "\u001b[0;31mSystemExit\u001b[0m\u001b[0;31m:\u001b[0m 1\n"
     ]
    },
    {
     "name": "stderr",
     "output_type": "stream",
     "text": [
      "/home/orv/gentoo/usr/lib64/python3.6/site-packages/IPython/core/interactiveshell.py:2886: UserWarning: To exit: use 'exit', 'quit', or Ctrl-D.\n",
      "  warn(\"To exit: use 'exit', 'quit', or Ctrl-D.\", stacklevel=1)\n"
     ]
    }
   ],
   "source": [
    "if len(sys.argv)!=4:\n",
    "    print(\"Wront arguments!\")\n",
    "    print(\"Usage: python Recon.py MCFileName[.root] outputFileName[.h5] shut\")\n",
    "    sys.exit(1)\n",
    "# Read PMT position\n",
    "PMT_pos = ReadPMT()\n",
    "event_count = 0\n",
    "\n",
    "ROOT.PyConfig.IgnoreCommandLineOptions = True\n",
    "# Reconstruction\n",
    "fid = sys.argv[1] # input file .root\n",
    "fout = sys.argv[2] # output file .h5\n",
    "shut = sys.argv[3]\n",
    "args = PMT_pos, event_count, shut\n",
    "recon(fid, fout, *args)"
   ]
  },
  {
   "cell_type": "code",
   "execution_count": null,
   "metadata": {},
   "outputs": [],
   "source": []
  }
 ],
 "metadata": {
  "kernelspec": {
   "display_name": "Python 3",
   "language": "python3",
   "name": "python3"
  },
  "language_info": {
   "codemirror_mode": {
    "name": "ipython",
    "version": 3
   },
   "file_extension": ".py",
   "mimetype": "text/x-python",
   "name": "python",
   "nbconvert_exporter": "python",
   "pygments_lexer": "ipython3",
   "version": "3.6.6"
  }
 },
 "nbformat": 4,
 "nbformat_minor": 2
}
