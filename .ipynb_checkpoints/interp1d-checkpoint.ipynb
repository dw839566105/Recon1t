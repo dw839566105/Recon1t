{
 "cells": [
  {
   "cell_type": "code",
   "execution_count": null,
   "metadata": {},
   "outputs": [
    {
     "name": "stdout",
     "output_type": "stream",
     "text": [
      "<class 'list'>\n",
      "<class 'list'>\n",
      "<class 'list'>\n",
      "<class 'list'>\n"
     ]
    }
   ],
   "source": [
    "import os\n",
    "import sys\n",
    "import tables\n",
    "import numpy as np\n",
    "\n",
    "\n",
    "filepath = '/mnt/stage/recon'\n",
    "data = []\n",
    "data_column = np.zeros((0,0))\n",
    "for dir in os.walk(filepath):\n",
    "    if((dir[0]==filepath) & (dir[2] == [])):\n",
    "        for i in range(len(dir)):\n",
    "            E_total = []\n",
    "            taud_total = []\n",
    "            x_total = []\n",
    "            y_total = []\n",
    "            z_total = []\n",
    "\n",
    "            dir_new = filepath + '/' + dir[1][i]\n",
    "            \n",
    "            for j in os.walk(dir_new):\n",
    "                if(len(j[2])>0):\n",
    "                    try:\n",
    "                        h = tables.open_file(os.path.join(j[0],'tau.h5'))\n",
    "                        recondata = h.root.Recon\n",
    "                        E = recondata[:]['l0_sph']\n",
    "                        E_total = np.hstack((E_total, E))\n",
    "                        taud = recondata[:]['tau_d']\n",
    "                        taud_total = np.hstack((taud_total, taud))\n",
    "                        x = recondata[:]['x_sph']\n",
    "                        x_total = np.hstack((x_total, x))\n",
    "                        y = recondata[:]['y_sph']\n",
    "                        y_total = np.hstack((y_total, y))\n",
    "                        z = recondata[:]['z_sph']\n",
    "                        z_total = np.hstack((z_total, z))\n",
    "                    except:\n",
    "                        pass\n",
    "            \n",
    "            a = [E_total, taud_total, x_total, y_total, z_total]\n",
    "            print(type(a))\n",
    "            data.append(a)\n",
    "            \n",
    "print(data)"
   ]
  },
  {
   "cell_type": "code",
   "execution_count": 23,
   "metadata": {},
   "outputs": [
    {
     "name": "stdout",
     "output_type": "stream",
     "text": [
      "[]\n"
     ]
    }
   ],
   "source": [
    "print(data[1][0])"
   ]
  },
  {
   "cell_type": "code",
   "execution_count": null,
   "metadata": {},
   "outputs": [],
   "source": []
  }
 ],
 "metadata": {
  "kernelspec": {
   "display_name": "Python 3",
   "language": "python3",
   "name": "python3"
  },
  "language_info": {
   "codemirror_mode": {
    "name": "ipython",
    "version": 3
   },
   "file_extension": ".py",
   "mimetype": "text/x-python",
   "name": "python",
   "nbconvert_exporter": "python",
   "pygments_lexer": "ipython3",
   "version": "3.6.6"
  }
 },
 "nbformat": 4,
 "nbformat_minor": 2
}
