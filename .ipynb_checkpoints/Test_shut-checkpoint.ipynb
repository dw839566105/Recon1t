{
 "cells": [
  {
   "cell_type": "code",
   "execution_count": 2,
   "metadata": {},
   "outputs": [],
   "source": [
    "import h5py\n",
    "import tables\n",
    "import matplotlib.pyplot as plt"
   ]
  },
  {
   "cell_type": "code",
   "execution_count": 10,
   "metadata": {},
   "outputs": [
    {
     "name": "stdout",
     "output_type": "stream",
     "text": [
      "[-0.4497  0.526   0.6494 ... -0.2573  0.62   -0.2612]\n"
     ]
    }
   ],
   "source": [
    "filename = './shut0.h5'\n",
    "h = tables.open_file(filename,'r')\n",
    "recondata = h.root.Recon\n",
    "\n",
    "## ML\n",
    "# normal\n",
    "x1 = recondata[:]['x1']\n",
    "y1 = recondata[:]['y1']\n",
    "z1 = recondata[:]['z1']\n",
    "# shut\n",
    "x2 = recondata[:]['x2']\n",
    "y2 = recondata[:]['y2']\n",
    "z2 = recondata[:]['z2']\n",
    "## weighted average\n",
    "# normal\n",
    "x3 = recondata[:]['x3']\n",
    "y3 = recondata[:]['y3']\n",
    "z3 = recondata[:]['z3']\n",
    "# shut\n",
    "x4 = recondata[:]['x4']\n",
    "y4 = recondata[:]['y4']\n",
    "z4 = recondata[:]['z4']"
   ]
  },
  {
   "cell_type": "code",
   "execution_count": null,
   "metadata": {},
   "outputs": [],
   "source": []
  }
 ],
 "metadata": {
  "kernelspec": {
   "display_name": "Python 3",
   "language": "python3",
   "name": "python3"
  },
  "language_info": {
   "codemirror_mode": {
    "name": "ipython",
    "version": 3
   },
   "file_extension": ".py",
   "mimetype": "text/x-python",
   "name": "python",
   "nbconvert_exporter": "python",
   "pygments_lexer": "ipython3",
   "version": "3.6.6"
  }
 },
 "nbformat": 4,
 "nbformat_minor": 2
}
