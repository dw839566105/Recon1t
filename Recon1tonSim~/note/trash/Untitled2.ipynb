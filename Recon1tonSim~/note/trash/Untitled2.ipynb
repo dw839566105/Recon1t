{
 "cells": [
  {
   "cell_type": "markdown",
   "metadata": {},
   "source": [
    "## Whether time info will make sense in reconstruction?\n",
    "#### Simulation test\n",
    "Simulate data: (simple using MATLAB)\n",
    "+ 1t PMT position \n",
    "+ flight time \n",
    "+ Gaussian(26 ns) \n",
    "\n",
    "Method:\n",
    "+ Traditional reconstruction(ML)\n",
    "\n",
    "Result:  \n",
    "+ No obvious cluster close to true vertex.\n",
    "+ It works when using Gaussian(1 ns)"
   ]
  },
  {
   "cell_type": "markdown",
   "metadata": {},
   "source": [
    "## difference between 1 t and 5 kt\n",
    "\n",
    "5kt diperformance on different radius\n",
    "+ Generation: (0,0,z)\n",
    "+ metric: cosine distance"
   ]
  },
  {
   "cell_type": "markdown",
   "metadata": {},
   "source": [
    "## Sparse Regression\n",
    "+ How to describe total reflection part?\n",
    "\n",
    "$$ \\lVert f(x) - \\sum_i w_i h(x) \\rVert ^2 + \\lambda \\lVert\\vec{w}\\lVert $$\n",
    "to reserve some low order and high order"
   ]
  },
  {
   "cell_type": "code",
   "execution_count": null,
   "metadata": {},
   "outputs": [],
   "source": []
  }
 ],
 "metadata": {
  "kernelspec": {
   "display_name": "Python 3",
   "language": "python",
   "name": "python3"
  },
  "language_info": {
   "codemirror_mode": {
    "name": "ipython",
    "version": 3
   },
   "file_extension": ".py",
   "mimetype": "text/x-python",
   "name": "python",
   "nbconvert_exporter": "python",
   "pygments_lexer": "ipython3",
   "version": "3.6.10"
  }
 },
 "nbformat": 4,
 "nbformat_minor": 2
}
